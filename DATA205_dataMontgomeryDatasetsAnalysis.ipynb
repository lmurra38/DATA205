{
 "cells": [
  {
   "cell_type": "markdown",
   "metadata": {},
   "source": [
    "# Examining Salaries, Crime, & Bias in Montgomery County\n",
    "### by Lucy Murray\n",
    "### DATA 205"
   ]
  },
  {
   "cell_type": "markdown",
   "metadata": {},
   "source": [
    "## Table of Contents\n",
    "\n",
    "* <b>[1. Introduction](#chapter1)</b>\n",
    "    * [The Datasets](#section_1_1)\n",
    "    * [Exploratory Questions](#section_1_2)\n",
    "        * [Phase I](#section_1_2_1)\n",
    "        * [Phase II](#section_1_2_2)\n",
    "    * [Packages Used](#section_1_3)\n",
    "* <b>[2. Montgomery County Salaries (2014-2018)](#chapter2)</b>\n",
    "    * [Reading the Data](#section_2_1)\n",
    "    * [Creating \"mcsalaries\"](#section_2_2)\n",
    "    * [Creating \"mcpolice\"](#section_2_3)\n",
    "    * [Answering Phase I Questions](#section_2_4)\n",
    "        * [How did annual salary of MC employees change by gender from 2014 to 2018?](#section_2_4_1)\n",
    "        * [How did annual salary of MC police change by gender from 2014 to 2018?](#section_2_4_2)\n",
    "* <b>[3. Crime](#chapter3)</b>\n",
    "    * [Reading the Data](#section_3_1)\n",
    "    * [Creating \"crime_look\"](#section_3_2)\n",
    "    * [Answering Phase I Questions](#section_3_3)\n",
    "        * [Did the distribution of crime in different districts change from 2017 to 2019?](#section_3_3_1)\n",
    "        * [What days of the week had the highest amount of crime?](#section_3_3_2)\n",
    "* <b>[4. MCPD Bias Incidents](#chapter4)</b>\n",
    "    * [Reading the Data](#section_4_1)\n",
    "    * [Answering Phase I Questions](#section_4_2)\n",
    "        * [What police districts had the highest incidents of biased crime?](#section_4_2_1)\n",
    "        * [Which biased type crime occurred most often?](#section_4_2_2)        \n",
    "* <b>[5. Answering Phase II Questions](#chapter5)</b>\n",
    "    * [How can we compare the crime and bias datasets?](#section_5_1)\n",
    "        * [Plotting proportion as a Solution](#section_5_1_1)\n",
    "    * [Can we accurately predict police employees that are male with a ML model?](#section_5_2)\n",
    "        * [Building a Logistic Regression model](#section_5_2_1)\n",
    "        * [Interpretation of Performance Measures](#section_5_2_2)\n",
    "* <b>[6. Final Thoughts](#chapter6)</b>\n",
    "    * [Recommendations for further operationalization](#section_6_1)\n",
    "    * [Acknowledgements](#section_6_3)"
   ]
  },
  {
   "cell_type": "markdown",
   "metadata": {},
   "source": [
    "# 1. Introduction <a class=\"anchor\" id=\"chapter1\"></a>\n",
    "\n",
    "This project aims to examine three datasets from [dataMontgomery](https://data.montgomerycountymd.gov/), which is the open data portal for Montgomery County, Maryland. I am interested in examining the Salaries, Crime, and MCPD Bias Incidents datasets. My  goal was to compare the salaries dataset--focusing specifically on the police department--with the crime dataset and to further explore the relatively new MCPD Bias Incidents dataset. "
   ]
  },
  {
   "cell_type": "markdown",
   "metadata": {},
   "source": [
    "## The Datasets <a class=\"anchor\" id=\"section_1_1\"></a>\n",
    "\n",
    "<b>Data Montgomery: [Employee Salaries - 2016](https://data.montgomerycountymd.gov/Human-Resources/Employee-Salaries-2016/xj3h-s2i7), [Employee Salaries - 2017](https://data.montgomerycountymd.gov/Human-Resources/Employee-Salaries-2017/2qd6-mr43), and [Employee Salaries - 2018](https://data.montgomerycountymd.gov/Human-Resources/Employee-Salaries-2018/kdqy-4wzv)</b>\n",
    "> These datasets provide pertinent information about Montgomery County employees' salaries such as current annual salary, gross pay received, overtime pay, department, division, assignment category (part or fulltime), date first hired, and so on. I have selected these particular years, as they coincide with other datasets I intend to use for this project.\n",
    "\n",
    "<b>Data Montgomery: [Crime](https://data.montgomerycountymd.gov/Public-Safety/Crime/icn6-v9z3)</b>\n",
    "> This dataset is updated daily and provides raw data of reported County crime. The data is derived from approved police incident reports and contains data spanning from 2016 to present day. It provides information codified by the National Incident-Based Reporting System (NIBRS) of the Criminal Justice Information Services (CJIS) Division Uniform Crime Reporting (UCR) Program. Salient variables include dispatch date/time, NIBRS Code, victims, crime name, police district name, latitude, adn longitude. I am specifically interested in creating mapping visualizations utilizing this dataset.\n",
    "\n",
    "<b>Data Montgomery: [MCPD Bias Incidents](https://data.montgomerycountymd.gov/Public-Safety/MCPD-Bias-Incidents/7bhj-887p)</b>\n",
    "> This dataset is updated monthly, and it captures incidents and criminal offenses that may be motivated by an offender's bias. Examples include bias against race, national or ethnic origin, religion, sex, mental or physical disability, sexual orientation or gender identity. It contains data from incidents spanning 2016 through present day. Although it is limited by many NA values, I am interested in variables such as bias code, bias, victim type, # of suspects, and the variables describing suspects' age ranges."
   ]
  },
  {
   "cell_type": "markdown",
   "metadata": {},
   "source": [
    "## Exploratory Questions <a class=\"anchor\" id=\"section_1_2\"></a>\n",
    "\n",
    "I developed these questions into two phases: the first is to explore the individual datasets, while the second attempts to make a deeper exploration through data visaulizations and statistical analysis. My methodology for this project was to begin with several questions, explore the data, and then propose refined questions that had solutions through data visualizations or some statistical analysis."
   ]
  },
  {
   "cell_type": "markdown",
   "metadata": {},
   "source": [
    "## Phase I  <a class=\"anchor\" id=\"section_1_2_1\"></a>\n",
    "\n",
    "<b>Dataset: </b>Montgomery County Salaries (2014-2018)\n",
    "* How did annual salary of MC employees change by gender from 2014 to 2018?\n",
    "* How did annual salary of MC police change by gender from 2014 to 2018?\n",
    "\n",
    "<b>Dataset: </b> Crime\n",
    "* Did the distribution of crime in different districts change from 2017 to 2019?\n",
    "* What days of the week had the highest amount of crime?\n",
    "\n",
    "<b>Dataset: </b> MCPD Bias Incidents\n",
    "* What police districts had the highest incidents of biased crime?\n",
    "* Which biased type crime occurred most often?"
   ]
  },
  {
   "cell_type": "markdown",
   "metadata": {},
   "source": [
    "## Phase II <a class=\"anchor\" id=\"section_1_2_2\"></a>\n",
    "\n",
    "<b>Dataset: </b> Crime & MCPD Bias Incidents\n",
    "* How can we compare the crime and bias datasets?\n",
    "\n",
    "<b>Dataset: </b> Montgomery County Salaries (2014-2018)\n",
    "* Can we accurately predict police employees that are male with a ML model?"
   ]
  },
  {
   "cell_type": "markdown",
   "metadata": {},
   "source": [
    "# Packages Used <a class=\"anchor\" id=\"section_1_3\"></a>"
   ]
  },
  {
   "cell_type": "code",
   "execution_count": 1,
   "metadata": {},
   "outputs": [],
   "source": [
    "## import packages:\n",
    "%matplotlib inline\n",
    "import random # library of function for generating random numbers and samples\n",
    "import numpy as np # for vector operations\n",
    "from numpy import percentile\n",
    "import pandas as pd # for Data Frame methods\n",
    "import matplotlib.pyplot as plt # Two dimensional plotting library\n",
    "import matplotlib as mpl\n",
    "import seaborn as sns #  library for making statistical graphics\n",
    "from scipy import stats #  library of statistical functions\n",
    "import scipy.interpolate as interp #  library for interpolating arrays\n",
    "import pandas_profiling\n",
    "from datetime import datetime\n",
    "from sklearn.preprocessing import LabelEncoder\n",
    "from imblearn.over_sampling import SMOTE\n",
    "from sklearn.model_selection import train_test_split\n",
    "\n",
    "# Set seed for generating psuedo random numbers\n",
    "np.random.seed(123)\n",
    "\n",
    "# Set up graphics\n",
    "plt.style.use('classic')\n",
    "%matplotlib inline"
   ]
  },
  {
   "cell_type": "code",
   "execution_count": 2,
   "metadata": {},
   "outputs": [],
   "source": [
    "#!pip install imblearn"
   ]
  },
  {
   "cell_type": "code",
   "execution_count": 3,
   "metadata": {},
   "outputs": [],
   "source": [
    "#pip install sklearn"
   ]
  },
  {
   "cell_type": "markdown",
   "metadata": {},
   "source": [
    "# 2. Montgomery County Salaries (2014-2018) <a class=\"anchor\" id=\"chapter2\"></a>"
   ]
  },
  {
   "cell_type": "markdown",
   "metadata": {},
   "source": [
    "## Reading the Data <a class=\"anchor\" id=\"section_2_1\"></a>"
   ]
  },
  {
   "cell_type": "markdown",
   "metadata": {},
   "source": [
    "### Reading the 2014 Data"
   ]
  },
  {
   "cell_type": "code",
   "execution_count": 4,
   "metadata": {},
   "outputs": [],
   "source": [
    "url = 'https://raw.githubusercontent.com/lmurra38/DATA205/master/DM_Salaries/Employee_Salaries_-_2014.csv'\n",
    "emp14 = pd.read_csv(url, error_bad_lines=False)"
   ]
  },
  {
   "cell_type": "code",
   "execution_count": 5,
   "metadata": {},
   "outputs": [],
   "source": [
    "emp14['Year']='2014'\n",
    "\n",
    "# renaming columns\n",
    "emp14_new = emp14.rename(columns={\"2014 Gross Pay Received\": \"Gross Pay Received\", \"2014 Overtime Pay\": \"Overtime Pay\", \"Underfilled Job Title\": \"Position Under-Filled\"})"
   ]
  },
  {
   "cell_type": "code",
   "execution_count": 6,
   "metadata": {
    "scrolled": true
   },
   "outputs": [
    {
     "data": {
      "text/html": [
       "<div>\n",
       "<style scoped>\n",
       "    .dataframe tbody tr th:only-of-type {\n",
       "        vertical-align: middle;\n",
       "    }\n",
       "\n",
       "    .dataframe tbody tr th {\n",
       "        vertical-align: top;\n",
       "    }\n",
       "\n",
       "    .dataframe thead th {\n",
       "        text-align: right;\n",
       "    }\n",
       "</style>\n",
       "<table border=\"1\" class=\"dataframe\">\n",
       "  <thead>\n",
       "    <tr style=\"text-align: right;\">\n",
       "      <th></th>\n",
       "      <th>Full Name</th>\n",
       "      <th>Gender</th>\n",
       "      <th>Current Annual Salary</th>\n",
       "      <th>Gross Pay Received</th>\n",
       "      <th>Overtime Pay</th>\n",
       "      <th>Department</th>\n",
       "      <th>Department Name</th>\n",
       "      <th>Division</th>\n",
       "      <th>Assignment Category</th>\n",
       "      <th>Position Title</th>\n",
       "      <th>Position Under-Filled</th>\n",
       "      <th>Date First Hired</th>\n",
       "      <th>Year</th>\n",
       "    </tr>\n",
       "  </thead>\n",
       "  <tbody>\n",
       "    <tr>\n",
       "      <th>0</th>\n",
       "      <td>Aarhus, Pam J</td>\n",
       "      <td>F</td>\n",
       "      <td>67527.83</td>\n",
       "      <td>69165.79</td>\n",
       "      <td>1202.75</td>\n",
       "      <td>POL</td>\n",
       "      <td>Department of Police</td>\n",
       "      <td>MSB Information Management and Technology Divi...</td>\n",
       "      <td>Fulltime-Regular</td>\n",
       "      <td>Office Services Coordinator</td>\n",
       "      <td>NaN</td>\n",
       "      <td>09/22/1986</td>\n",
       "      <td>2014</td>\n",
       "    </tr>\n",
       "    <tr>\n",
       "      <th>1</th>\n",
       "      <td>Aaron, David J</td>\n",
       "      <td>M</td>\n",
       "      <td>95007.83</td>\n",
       "      <td>101745.05</td>\n",
       "      <td>6519.66</td>\n",
       "      <td>POL</td>\n",
       "      <td>Department of Police</td>\n",
       "      <td>ISB Major Crimes Division Fugitive Section</td>\n",
       "      <td>Fulltime-Regular</td>\n",
       "      <td>Master Police Officer</td>\n",
       "      <td>NaN</td>\n",
       "      <td>09/12/1988</td>\n",
       "      <td>2014</td>\n",
       "    </tr>\n",
       "    <tr>\n",
       "      <th>2</th>\n",
       "      <td>Aaron, Marsha M</td>\n",
       "      <td>F</td>\n",
       "      <td>102153.00</td>\n",
       "      <td>100860.09</td>\n",
       "      <td>285.40</td>\n",
       "      <td>HHS</td>\n",
       "      <td>Department of Health and Human Services</td>\n",
       "      <td>Adult Protective and Case Management Services</td>\n",
       "      <td>Fulltime-Regular</td>\n",
       "      <td>Social Worker IV</td>\n",
       "      <td>NaN</td>\n",
       "      <td>11/19/1989</td>\n",
       "      <td>2014</td>\n",
       "    </tr>\n",
       "    <tr>\n",
       "      <th>3</th>\n",
       "      <td>Ababio, Godfred A</td>\n",
       "      <td>M</td>\n",
       "      <td>43657.20</td>\n",
       "      <td>31611.67</td>\n",
       "      <td>4395.16</td>\n",
       "      <td>COR</td>\n",
       "      <td>Correction and Rehabilitation</td>\n",
       "      <td>PRRS Facility and Security</td>\n",
       "      <td>Fulltime-Regular</td>\n",
       "      <td>Resident Supervisor II</td>\n",
       "      <td>Resident Supervisor I</td>\n",
       "      <td>05/05/2014</td>\n",
       "      <td>2014</td>\n",
       "    </tr>\n",
       "    <tr>\n",
       "      <th>4</th>\n",
       "      <td>Ababu, Essayas</td>\n",
       "      <td>M</td>\n",
       "      <td>91109.00</td>\n",
       "      <td>90837.34</td>\n",
       "      <td>NaN</td>\n",
       "      <td>HCA</td>\n",
       "      <td>Department of Housing and Community Affairs</td>\n",
       "      <td>Single Family Housing Program</td>\n",
       "      <td>Fulltime-Regular</td>\n",
       "      <td>Planning Specialist III</td>\n",
       "      <td>NaN</td>\n",
       "      <td>03/05/2007</td>\n",
       "      <td>2014</td>\n",
       "    </tr>\n",
       "  </tbody>\n",
       "</table>\n",
       "</div>"
      ],
      "text/plain": [
       "           Full Name Gender  Current Annual Salary  Gross Pay Received  \\\n",
       "0      Aarhus, Pam J      F               67527.83            69165.79   \n",
       "1     Aaron, David J      M               95007.83           101745.05   \n",
       "2    Aaron, Marsha M      F              102153.00           100860.09   \n",
       "3  Ababio, Godfred A      M               43657.20            31611.67   \n",
       "4     Ababu, Essayas      M               91109.00            90837.34   \n",
       "\n",
       "   Overtime Pay Department                              Department Name  \\\n",
       "0       1202.75        POL                         Department of Police   \n",
       "1       6519.66        POL                         Department of Police   \n",
       "2        285.40        HHS      Department of Health and Human Services   \n",
       "3       4395.16        COR                Correction and Rehabilitation   \n",
       "4           NaN        HCA  Department of Housing and Community Affairs   \n",
       "\n",
       "                                            Division Assignment Category  \\\n",
       "0  MSB Information Management and Technology Divi...    Fulltime-Regular   \n",
       "1         ISB Major Crimes Division Fugitive Section    Fulltime-Regular   \n",
       "2      Adult Protective and Case Management Services    Fulltime-Regular   \n",
       "3                         PRRS Facility and Security    Fulltime-Regular   \n",
       "4                      Single Family Housing Program    Fulltime-Regular   \n",
       "\n",
       "                Position Title  Position Under-Filled Date First Hired  Year  \n",
       "0  Office Services Coordinator                    NaN       09/22/1986  2014  \n",
       "1        Master Police Officer                    NaN       09/12/1988  2014  \n",
       "2             Social Worker IV                    NaN       11/19/1989  2014  \n",
       "3       Resident Supervisor II  Resident Supervisor I       05/05/2014  2014  \n",
       "4      Planning Specialist III                    NaN       03/05/2007  2014  "
      ]
     },
     "execution_count": 6,
     "metadata": {},
     "output_type": "execute_result"
    }
   ],
   "source": [
    "# checking the packaging\n",
    "emp14_new.head()"
   ]
  },
  {
   "cell_type": "markdown",
   "metadata": {},
   "source": [
    "### Reading the 2015 Data"
   ]
  },
  {
   "cell_type": "code",
   "execution_count": 7,
   "metadata": {},
   "outputs": [],
   "source": [
    "url = 'https://raw.githubusercontent.com/lmurra38/DATA205/master/DM_Salaries/Employee_Salaries_-_2015.csv'\n",
    "emp15 = pd.read_csv(url, error_bad_lines=False)"
   ]
  },
  {
   "cell_type": "code",
   "execution_count": 8,
   "metadata": {},
   "outputs": [],
   "source": [
    "emp15['Year']='2015'\n",
    "\n",
    "# renaming columns\n",
    "emp15_new = emp15.rename(columns={\"2015 Gross Pay Received\": \"Gross Pay Received\", \"2015 Overtime Pay\": \"Overtime Pay\", \"Underfilled Job Title\": \"Position Under-Filled\"})"
   ]
  },
  {
   "cell_type": "code",
   "execution_count": 9,
   "metadata": {
    "scrolled": true
   },
   "outputs": [
    {
     "data": {
      "text/html": [
       "<div>\n",
       "<style scoped>\n",
       "    .dataframe tbody tr th:only-of-type {\n",
       "        vertical-align: middle;\n",
       "    }\n",
       "\n",
       "    .dataframe tbody tr th {\n",
       "        vertical-align: top;\n",
       "    }\n",
       "\n",
       "    .dataframe thead th {\n",
       "        text-align: right;\n",
       "    }\n",
       "</style>\n",
       "<table border=\"1\" class=\"dataframe\">\n",
       "  <thead>\n",
       "    <tr style=\"text-align: right;\">\n",
       "      <th></th>\n",
       "      <th>Full Name</th>\n",
       "      <th>Gender</th>\n",
       "      <th>Current Annual Salary</th>\n",
       "      <th>Gross Pay Received</th>\n",
       "      <th>Overtime Pay</th>\n",
       "      <th>Department</th>\n",
       "      <th>Department Name</th>\n",
       "      <th>Division</th>\n",
       "      <th>Assignment Category</th>\n",
       "      <th>Position Title</th>\n",
       "      <th>Position Under-Filled</th>\n",
       "      <th>Date First Hired</th>\n",
       "      <th>Year</th>\n",
       "    </tr>\n",
       "  </thead>\n",
       "  <tbody>\n",
       "    <tr>\n",
       "      <th>0</th>\n",
       "      <td>Aarhus, Pam J.</td>\n",
       "      <td>F</td>\n",
       "      <td>68878.16</td>\n",
       "      <td>72336.79</td>\n",
       "      <td>NaN</td>\n",
       "      <td>POL</td>\n",
       "      <td>Department of Police</td>\n",
       "      <td>MSB Information Management and Technology Divi...</td>\n",
       "      <td>Fulltime-Regular</td>\n",
       "      <td>Office Services Coordinator</td>\n",
       "      <td>NaN</td>\n",
       "      <td>09/22/1986</td>\n",
       "      <td>2015</td>\n",
       "    </tr>\n",
       "    <tr>\n",
       "      <th>1</th>\n",
       "      <td>Aaron, David J.</td>\n",
       "      <td>M</td>\n",
       "      <td>96908.09</td>\n",
       "      <td>101857.00</td>\n",
       "      <td>4640.99</td>\n",
       "      <td>POL</td>\n",
       "      <td>Department of Police</td>\n",
       "      <td>ISB Major Crimes Division Fugitive Section</td>\n",
       "      <td>Fulltime-Regular</td>\n",
       "      <td>Master Police Officer</td>\n",
       "      <td>NaN</td>\n",
       "      <td>09/12/1988</td>\n",
       "      <td>2015</td>\n",
       "    </tr>\n",
       "    <tr>\n",
       "      <th>2</th>\n",
       "      <td>Aaron, Marsha M.</td>\n",
       "      <td>F</td>\n",
       "      <td>104196.06</td>\n",
       "      <td>103019.73</td>\n",
       "      <td>NaN</td>\n",
       "      <td>HHS</td>\n",
       "      <td>Department of Health and Human Services</td>\n",
       "      <td>Adult Protective and Case Management Services</td>\n",
       "      <td>Fulltime-Regular</td>\n",
       "      <td>Social Worker IV</td>\n",
       "      <td>NaN</td>\n",
       "      <td>11/19/1989</td>\n",
       "      <td>2015</td>\n",
       "    </tr>\n",
       "    <tr>\n",
       "      <th>3</th>\n",
       "      <td>Ababio, Godfred A.</td>\n",
       "      <td>M</td>\n",
       "      <td>50697.79</td>\n",
       "      <td>54181.46</td>\n",
       "      <td>4445.15</td>\n",
       "      <td>COR</td>\n",
       "      <td>Correction and Rehabilitation</td>\n",
       "      <td>PRRS Facility and Security</td>\n",
       "      <td>Fulltime-Regular</td>\n",
       "      <td>Resident Supervisor II</td>\n",
       "      <td>NaN</td>\n",
       "      <td>05/05/2014</td>\n",
       "      <td>2015</td>\n",
       "    </tr>\n",
       "    <tr>\n",
       "      <th>4</th>\n",
       "      <td>Ababu, Essayas</td>\n",
       "      <td>M</td>\n",
       "      <td>92931.00</td>\n",
       "      <td>93468.35</td>\n",
       "      <td>NaN</td>\n",
       "      <td>HCA</td>\n",
       "      <td>Department of Housing and Community Affairs</td>\n",
       "      <td>Single Family Housing Program</td>\n",
       "      <td>Fulltime-Regular</td>\n",
       "      <td>Planning Specialist III</td>\n",
       "      <td>NaN</td>\n",
       "      <td>03/05/2007</td>\n",
       "      <td>2015</td>\n",
       "    </tr>\n",
       "  </tbody>\n",
       "</table>\n",
       "</div>"
      ],
      "text/plain": [
       "            Full Name Gender  Current Annual Salary  Gross Pay Received  \\\n",
       "0      Aarhus, Pam J.      F               68878.16            72336.79   \n",
       "1     Aaron, David J.      M               96908.09           101857.00   \n",
       "2    Aaron, Marsha M.      F              104196.06           103019.73   \n",
       "3  Ababio, Godfred A.      M               50697.79            54181.46   \n",
       "4      Ababu, Essayas      M               92931.00            93468.35   \n",
       "\n",
       "   Overtime Pay Department                              Department Name  \\\n",
       "0           NaN        POL                         Department of Police   \n",
       "1       4640.99        POL                         Department of Police   \n",
       "2           NaN        HHS      Department of Health and Human Services   \n",
       "3       4445.15        COR                Correction and Rehabilitation   \n",
       "4           NaN        HCA  Department of Housing and Community Affairs   \n",
       "\n",
       "                                            Division Assignment Category  \\\n",
       "0  MSB Information Management and Technology Divi...    Fulltime-Regular   \n",
       "1         ISB Major Crimes Division Fugitive Section    Fulltime-Regular   \n",
       "2      Adult Protective and Case Management Services    Fulltime-Regular   \n",
       "3                         PRRS Facility and Security    Fulltime-Regular   \n",
       "4                      Single Family Housing Program    Fulltime-Regular   \n",
       "\n",
       "                Position Title Position Under-Filled Date First Hired  Year  \n",
       "0  Office Services Coordinator                   NaN       09/22/1986  2015  \n",
       "1        Master Police Officer                   NaN       09/12/1988  2015  \n",
       "2             Social Worker IV                   NaN       11/19/1989  2015  \n",
       "3       Resident Supervisor II                   NaN       05/05/2014  2015  \n",
       "4      Planning Specialist III                   NaN       03/05/2007  2015  "
      ]
     },
     "execution_count": 9,
     "metadata": {},
     "output_type": "execute_result"
    }
   ],
   "source": [
    "# checking the packaging\n",
    "emp15_new.head()"
   ]
  },
  {
   "cell_type": "markdown",
   "metadata": {},
   "source": [
    "### Reading the 2016 Data"
   ]
  },
  {
   "cell_type": "code",
   "execution_count": 10,
   "metadata": {
    "scrolled": false
   },
   "outputs": [],
   "source": [
    "url = 'https://raw.githubusercontent.com/lmurra38/DATA205/master/DM_Salaries/Employee_Salaries_-_2016.csv'\n",
    "emp16 = pd.read_csv(url, error_bad_lines=False)"
   ]
  },
  {
   "cell_type": "code",
   "execution_count": 11,
   "metadata": {},
   "outputs": [],
   "source": [
    "emp16['Year']='2016'"
   ]
  },
  {
   "cell_type": "code",
   "execution_count": 12,
   "metadata": {},
   "outputs": [],
   "source": [
    "# renaming columns\n",
    "emp16_new = emp16.rename(columns={\"2016 Gross Pay Received\": \"Gross Pay Received\", \"2016 Overtime Pay\": \"Overtime Pay\", \"Underfilled Job Title\": \"Position Under-Filled\"})"
   ]
  },
  {
   "cell_type": "code",
   "execution_count": 13,
   "metadata": {
    "scrolled": true
   },
   "outputs": [
    {
     "data": {
      "text/html": [
       "<div>\n",
       "<style scoped>\n",
       "    .dataframe tbody tr th:only-of-type {\n",
       "        vertical-align: middle;\n",
       "    }\n",
       "\n",
       "    .dataframe tbody tr th {\n",
       "        vertical-align: top;\n",
       "    }\n",
       "\n",
       "    .dataframe thead th {\n",
       "        text-align: right;\n",
       "    }\n",
       "</style>\n",
       "<table border=\"1\" class=\"dataframe\">\n",
       "  <thead>\n",
       "    <tr style=\"text-align: right;\">\n",
       "      <th></th>\n",
       "      <th>Full Name</th>\n",
       "      <th>Gender</th>\n",
       "      <th>Current Annual Salary</th>\n",
       "      <th>Gross Pay Received</th>\n",
       "      <th>Overtime Pay</th>\n",
       "      <th>Department</th>\n",
       "      <th>Department Name</th>\n",
       "      <th>Division</th>\n",
       "      <th>Assignment Category</th>\n",
       "      <th>Employee Position Title</th>\n",
       "      <th>Position Under-Filled</th>\n",
       "      <th>Date First Hired</th>\n",
       "      <th>Year</th>\n",
       "    </tr>\n",
       "  </thead>\n",
       "  <tbody>\n",
       "    <tr>\n",
       "      <th>0</th>\n",
       "      <td>Aarhus, Pam J.</td>\n",
       "      <td>F</td>\n",
       "      <td>69222.18</td>\n",
       "      <td>71225.98</td>\n",
       "      <td>416.10</td>\n",
       "      <td>POL</td>\n",
       "      <td>Department of Police</td>\n",
       "      <td>MSB Information Mgmt and Tech Division Records...</td>\n",
       "      <td>Fulltime-Regular</td>\n",
       "      <td>Office Services Coordinator</td>\n",
       "      <td>NaN</td>\n",
       "      <td>09/22/1986</td>\n",
       "      <td>2016</td>\n",
       "    </tr>\n",
       "    <tr>\n",
       "      <th>1</th>\n",
       "      <td>Aaron, David J.</td>\n",
       "      <td>M</td>\n",
       "      <td>97392.47</td>\n",
       "      <td>103088.48</td>\n",
       "      <td>3326.19</td>\n",
       "      <td>POL</td>\n",
       "      <td>Department of Police</td>\n",
       "      <td>ISB Major Crimes Division Fugitive Section</td>\n",
       "      <td>Fulltime-Regular</td>\n",
       "      <td>Master Police Officer</td>\n",
       "      <td>NaN</td>\n",
       "      <td>09/12/1988</td>\n",
       "      <td>2016</td>\n",
       "    </tr>\n",
       "    <tr>\n",
       "      <th>2</th>\n",
       "      <td>Aaron, Marsha M.</td>\n",
       "      <td>F</td>\n",
       "      <td>104717.28</td>\n",
       "      <td>107000.24</td>\n",
       "      <td>1353.32</td>\n",
       "      <td>HHS</td>\n",
       "      <td>Department of Health and Human Services</td>\n",
       "      <td>Adult Protective and Case Management Services</td>\n",
       "      <td>Fulltime-Regular</td>\n",
       "      <td>Social Worker IV</td>\n",
       "      <td>NaN</td>\n",
       "      <td>11/19/1989</td>\n",
       "      <td>2016</td>\n",
       "    </tr>\n",
       "    <tr>\n",
       "      <th>3</th>\n",
       "      <td>Ababio, Godfred A.</td>\n",
       "      <td>M</td>\n",
       "      <td>52734.57</td>\n",
       "      <td>57819.04</td>\n",
       "      <td>3423.07</td>\n",
       "      <td>COR</td>\n",
       "      <td>Correction and Rehabilitation</td>\n",
       "      <td>PRRS Facility and Security</td>\n",
       "      <td>Fulltime-Regular</td>\n",
       "      <td>Resident Supervisor II</td>\n",
       "      <td>NaN</td>\n",
       "      <td>05/05/2014</td>\n",
       "      <td>2016</td>\n",
       "    </tr>\n",
       "    <tr>\n",
       "      <th>4</th>\n",
       "      <td>Ababu, Essayas</td>\n",
       "      <td>M</td>\n",
       "      <td>93396.00</td>\n",
       "      <td>95815.17</td>\n",
       "      <td>NaN</td>\n",
       "      <td>HCA</td>\n",
       "      <td>Department of Housing and Community Affairs</td>\n",
       "      <td>Affordable Housing Programs</td>\n",
       "      <td>Fulltime-Regular</td>\n",
       "      <td>Planning Specialist III</td>\n",
       "      <td>NaN</td>\n",
       "      <td>03/05/2007</td>\n",
       "      <td>2016</td>\n",
       "    </tr>\n",
       "  </tbody>\n",
       "</table>\n",
       "</div>"
      ],
      "text/plain": [
       "            Full Name Gender  Current Annual Salary  Gross Pay Received  \\\n",
       "0      Aarhus, Pam J.      F               69222.18            71225.98   \n",
       "1     Aaron, David J.      M               97392.47           103088.48   \n",
       "2    Aaron, Marsha M.      F              104717.28           107000.24   \n",
       "3  Ababio, Godfred A.      M               52734.57            57819.04   \n",
       "4      Ababu, Essayas      M               93396.00            95815.17   \n",
       "\n",
       "   Overtime Pay Department                              Department Name  \\\n",
       "0        416.10        POL                         Department of Police   \n",
       "1       3326.19        POL                         Department of Police   \n",
       "2       1353.32        HHS      Department of Health and Human Services   \n",
       "3       3423.07        COR                Correction and Rehabilitation   \n",
       "4           NaN        HCA  Department of Housing and Community Affairs   \n",
       "\n",
       "                                            Division Assignment Category  \\\n",
       "0  MSB Information Mgmt and Tech Division Records...    Fulltime-Regular   \n",
       "1         ISB Major Crimes Division Fugitive Section    Fulltime-Regular   \n",
       "2      Adult Protective and Case Management Services    Fulltime-Regular   \n",
       "3                         PRRS Facility and Security    Fulltime-Regular   \n",
       "4                        Affordable Housing Programs    Fulltime-Regular   \n",
       "\n",
       "       Employee Position Title Position Under-Filled Date First Hired  Year  \n",
       "0  Office Services Coordinator                   NaN       09/22/1986  2016  \n",
       "1        Master Police Officer                   NaN       09/12/1988  2016  \n",
       "2             Social Worker IV                   NaN       11/19/1989  2016  \n",
       "3       Resident Supervisor II                   NaN       05/05/2014  2016  \n",
       "4      Planning Specialist III                   NaN       03/05/2007  2016  "
      ]
     },
     "execution_count": 13,
     "metadata": {},
     "output_type": "execute_result"
    }
   ],
   "source": [
    "# checking the packaging\n",
    "emp16_new.head()"
   ]
  },
  {
   "cell_type": "markdown",
   "metadata": {},
   "source": [
    "### Reading the 2017 Data"
   ]
  },
  {
   "cell_type": "code",
   "execution_count": 14,
   "metadata": {
    "scrolled": false
   },
   "outputs": [],
   "source": [
    "url = 'https://raw.githubusercontent.com/lmurra38/DATA205/master/DM_Salaries/Employee_Salaries_-_2017.csv'\n",
    "emp17 = pd.read_csv(url, error_bad_lines=False)"
   ]
  },
  {
   "cell_type": "code",
   "execution_count": 15,
   "metadata": {},
   "outputs": [],
   "source": [
    "emp17['Year']='2017'"
   ]
  },
  {
   "cell_type": "code",
   "execution_count": 16,
   "metadata": {},
   "outputs": [],
   "source": [
    "# renaming columns\n",
    "emp17_new = emp17.rename(columns={\"2017 Gross Pay Received\": \"Gross Pay Received\", \"2017 Overtime Pay\": \"Overtime Pay\"})"
   ]
  },
  {
   "cell_type": "code",
   "execution_count": 17,
   "metadata": {
    "scrolled": true
   },
   "outputs": [
    {
     "data": {
      "text/html": [
       "<div>\n",
       "<style scoped>\n",
       "    .dataframe tbody tr th:only-of-type {\n",
       "        vertical-align: middle;\n",
       "    }\n",
       "\n",
       "    .dataframe tbody tr th {\n",
       "        vertical-align: top;\n",
       "    }\n",
       "\n",
       "    .dataframe thead th {\n",
       "        text-align: right;\n",
       "    }\n",
       "</style>\n",
       "<table border=\"1\" class=\"dataframe\">\n",
       "  <thead>\n",
       "    <tr style=\"text-align: right;\">\n",
       "      <th></th>\n",
       "      <th>Full Name</th>\n",
       "      <th>Gender</th>\n",
       "      <th>Current Annual Salary</th>\n",
       "      <th>Gross Pay Received</th>\n",
       "      <th>Overtime Pay</th>\n",
       "      <th>Department</th>\n",
       "      <th>Department Name</th>\n",
       "      <th>Division</th>\n",
       "      <th>Assignment Category</th>\n",
       "      <th>Employee Position Title</th>\n",
       "      <th>Position Under-Filled</th>\n",
       "      <th>Date First Hired</th>\n",
       "      <th>Year</th>\n",
       "    </tr>\n",
       "  </thead>\n",
       "  <tbody>\n",
       "    <tr>\n",
       "      <th>0</th>\n",
       "      <td>Aarhus, Pam J.</td>\n",
       "      <td>F</td>\n",
       "      <td>70959.79</td>\n",
       "      <td>71316.72</td>\n",
       "      <td>0.00</td>\n",
       "      <td>POL</td>\n",
       "      <td>Department of Police</td>\n",
       "      <td>MSB Information Mgmt and Tech Division Records...</td>\n",
       "      <td>Fulltime-Regular</td>\n",
       "      <td>Office Services Coordinator</td>\n",
       "      <td>NaN</td>\n",
       "      <td>09/22/1986</td>\n",
       "      <td>2017</td>\n",
       "    </tr>\n",
       "    <tr>\n",
       "      <th>1</th>\n",
       "      <td>Aaron, Marsha M.</td>\n",
       "      <td>F</td>\n",
       "      <td>110359.00</td>\n",
       "      <td>108040.82</td>\n",
       "      <td>0.00</td>\n",
       "      <td>HHS</td>\n",
       "      <td>Department of Health and Human Services</td>\n",
       "      <td>Adult Protective and Case Management Services</td>\n",
       "      <td>Fulltime-Regular</td>\n",
       "      <td>Supervisory Social Worker</td>\n",
       "      <td>NaN</td>\n",
       "      <td>11/19/1989</td>\n",
       "      <td>2017</td>\n",
       "    </tr>\n",
       "    <tr>\n",
       "      <th>2</th>\n",
       "      <td>Ababio, Godfred A.</td>\n",
       "      <td>M</td>\n",
       "      <td>55950.24</td>\n",
       "      <td>62575.19</td>\n",
       "      <td>7649.19</td>\n",
       "      <td>COR</td>\n",
       "      <td>Correction and Rehabilitation</td>\n",
       "      <td>PRRS Facility and Security</td>\n",
       "      <td>Fulltime-Regular</td>\n",
       "      <td>Resident Supervisor II</td>\n",
       "      <td>NaN</td>\n",
       "      <td>05/05/2014</td>\n",
       "      <td>2017</td>\n",
       "    </tr>\n",
       "    <tr>\n",
       "      <th>3</th>\n",
       "      <td>Ababu, Essayas</td>\n",
       "      <td>M</td>\n",
       "      <td>95740.00</td>\n",
       "      <td>96055.94</td>\n",
       "      <td>0.00</td>\n",
       "      <td>HCA</td>\n",
       "      <td>Department of Housing and Community Affairs</td>\n",
       "      <td>Affordable Housing Programs</td>\n",
       "      <td>Fulltime-Regular</td>\n",
       "      <td>Planning Specialist III</td>\n",
       "      <td>NaN</td>\n",
       "      <td>03/05/2007</td>\n",
       "      <td>2017</td>\n",
       "    </tr>\n",
       "    <tr>\n",
       "      <th>4</th>\n",
       "      <td>Abbamonte, Drew B.</td>\n",
       "      <td>M</td>\n",
       "      <td>74732.00</td>\n",
       "      <td>98736.78</td>\n",
       "      <td>23468.73</td>\n",
       "      <td>POL</td>\n",
       "      <td>Department of Police</td>\n",
       "      <td>PSB 6th District Special Assignment Team</td>\n",
       "      <td>Fulltime-Regular</td>\n",
       "      <td>Police Officer III</td>\n",
       "      <td>NaN</td>\n",
       "      <td>07/16/2007</td>\n",
       "      <td>2017</td>\n",
       "    </tr>\n",
       "  </tbody>\n",
       "</table>\n",
       "</div>"
      ],
      "text/plain": [
       "            Full Name Gender  Current Annual Salary  Gross Pay Received  \\\n",
       "0      Aarhus, Pam J.      F               70959.79            71316.72   \n",
       "1    Aaron, Marsha M.      F              110359.00           108040.82   \n",
       "2  Ababio, Godfred A.      M               55950.24            62575.19   \n",
       "3      Ababu, Essayas      M               95740.00            96055.94   \n",
       "4  Abbamonte, Drew B.      M               74732.00            98736.78   \n",
       "\n",
       "   Overtime Pay Department                              Department Name  \\\n",
       "0          0.00        POL                         Department of Police   \n",
       "1          0.00        HHS      Department of Health and Human Services   \n",
       "2       7649.19        COR                Correction and Rehabilitation   \n",
       "3          0.00        HCA  Department of Housing and Community Affairs   \n",
       "4      23468.73        POL                         Department of Police   \n",
       "\n",
       "                                            Division Assignment Category  \\\n",
       "0  MSB Information Mgmt and Tech Division Records...    Fulltime-Regular   \n",
       "1      Adult Protective and Case Management Services    Fulltime-Regular   \n",
       "2                         PRRS Facility and Security    Fulltime-Regular   \n",
       "3                        Affordable Housing Programs    Fulltime-Regular   \n",
       "4           PSB 6th District Special Assignment Team    Fulltime-Regular   \n",
       "\n",
       "       Employee Position Title Position Under-Filled Date First Hired  Year  \n",
       "0  Office Services Coordinator                   NaN       09/22/1986  2017  \n",
       "1    Supervisory Social Worker                   NaN       11/19/1989  2017  \n",
       "2       Resident Supervisor II                   NaN       05/05/2014  2017  \n",
       "3      Planning Specialist III                   NaN       03/05/2007  2017  \n",
       "4           Police Officer III                   NaN       07/16/2007  2017  "
      ]
     },
     "execution_count": 17,
     "metadata": {},
     "output_type": "execute_result"
    }
   ],
   "source": [
    "# checking the packaging\n",
    "emp17_new.head()"
   ]
  },
  {
   "cell_type": "markdown",
   "metadata": {},
   "source": [
    "### Reading the 2018 Data"
   ]
  },
  {
   "cell_type": "code",
   "execution_count": 18,
   "metadata": {
    "scrolled": false
   },
   "outputs": [],
   "source": [
    "url = 'https://raw.githubusercontent.com/lmurra38/DATA205/master/DM_Salaries/Employee_Salaries_-_2018.csv'\n",
    "emp18 = pd.read_csv(url, error_bad_lines=False)"
   ]
  },
  {
   "cell_type": "code",
   "execution_count": 19,
   "metadata": {},
   "outputs": [],
   "source": [
    "emp18['Year']='2018'"
   ]
  },
  {
   "cell_type": "code",
   "execution_count": 20,
   "metadata": {},
   "outputs": [],
   "source": [
    "# renaming columns\n",
    "emp18_new = emp18.rename(columns={\"2018 Gross Pay Received\": \"Gross Pay Received\", \"2018 Overtime Pay\": \"Overtime Pay\"})"
   ]
  },
  {
   "cell_type": "code",
   "execution_count": 21,
   "metadata": {
    "scrolled": true
   },
   "outputs": [
    {
     "data": {
      "text/html": [
       "<div>\n",
       "<style scoped>\n",
       "    .dataframe tbody tr th:only-of-type {\n",
       "        vertical-align: middle;\n",
       "    }\n",
       "\n",
       "    .dataframe tbody tr th {\n",
       "        vertical-align: top;\n",
       "    }\n",
       "\n",
       "    .dataframe thead th {\n",
       "        text-align: right;\n",
       "    }\n",
       "</style>\n",
       "<table border=\"1\" class=\"dataframe\">\n",
       "  <thead>\n",
       "    <tr style=\"text-align: right;\">\n",
       "      <th></th>\n",
       "      <th>Full Name</th>\n",
       "      <th>Gender</th>\n",
       "      <th>Current Annual Salary</th>\n",
       "      <th>Gross Pay Received</th>\n",
       "      <th>Overtime Pay</th>\n",
       "      <th>Department</th>\n",
       "      <th>Department Name</th>\n",
       "      <th>Division</th>\n",
       "      <th>Assignment Category</th>\n",
       "      <th>Employee Position Title</th>\n",
       "      <th>Position Under-Filled</th>\n",
       "      <th>Date First Hired</th>\n",
       "      <th>Year</th>\n",
       "    </tr>\n",
       "  </thead>\n",
       "  <tbody>\n",
       "    <tr>\n",
       "      <th>0</th>\n",
       "      <td>Lee, Tzu C.</td>\n",
       "      <td>F</td>\n",
       "      <td>107346.00</td>\n",
       "      <td>94528.87</td>\n",
       "      <td>0.0</td>\n",
       "      <td>POL</td>\n",
       "      <td>Department of Police</td>\n",
       "      <td>MSB Management and Budget Division</td>\n",
       "      <td>Fulltime-Regular</td>\n",
       "      <td>Management and Budget Specialist III</td>\n",
       "      <td>NaN</td>\n",
       "      <td>12/08/2008</td>\n",
       "      <td>2018</td>\n",
       "    </tr>\n",
       "    <tr>\n",
       "      <th>1</th>\n",
       "      <td>LeGuellec, Gael</td>\n",
       "      <td>M</td>\n",
       "      <td>128132.42</td>\n",
       "      <td>125131.66</td>\n",
       "      <td>0.0</td>\n",
       "      <td>HCA</td>\n",
       "      <td>Department of Housing and Community Affairs</td>\n",
       "      <td>Management Services</td>\n",
       "      <td>Fulltime-Regular</td>\n",
       "      <td>Senior Information Technology Specialist</td>\n",
       "      <td>NaN</td>\n",
       "      <td>02/16/1999</td>\n",
       "      <td>2018</td>\n",
       "    </tr>\n",
       "    <tr>\n",
       "      <th>2</th>\n",
       "      <td>Lopez-Cuevas, Claudia V.</td>\n",
       "      <td>F</td>\n",
       "      <td>85430.13</td>\n",
       "      <td>81813.52</td>\n",
       "      <td>0.0</td>\n",
       "      <td>CUS</td>\n",
       "      <td>Community Use of Public Facilities</td>\n",
       "      <td>Finance and Administrative Support Team</td>\n",
       "      <td>Fulltime-Regular</td>\n",
       "      <td>Administrative Specialist III</td>\n",
       "      <td>Administrative Specialist I</td>\n",
       "      <td>08/23/2004</td>\n",
       "      <td>2018</td>\n",
       "    </tr>\n",
       "    <tr>\n",
       "      <th>3</th>\n",
       "      <td>Maxwell, Ceciley M.</td>\n",
       "      <td>F</td>\n",
       "      <td>65163.92</td>\n",
       "      <td>61867.76</td>\n",
       "      <td>0.0</td>\n",
       "      <td>CUS</td>\n",
       "      <td>Community Use of Public Facilities</td>\n",
       "      <td>Finance and Administrative Support Team</td>\n",
       "      <td>Fulltime-Regular</td>\n",
       "      <td>Program Specialist I</td>\n",
       "      <td>NaN</td>\n",
       "      <td>05/26/2006</td>\n",
       "      <td>2018</td>\n",
       "    </tr>\n",
       "    <tr>\n",
       "      <th>4</th>\n",
       "      <td>McAlpine-Eig, Catherine</td>\n",
       "      <td>F</td>\n",
       "      <td>133283.71</td>\n",
       "      <td>66129.63</td>\n",
       "      <td>0.0</td>\n",
       "      <td>HHS</td>\n",
       "      <td>Department of Health and Human Services</td>\n",
       "      <td>Adult Behavioral Health Services</td>\n",
       "      <td>Fulltime-Regular</td>\n",
       "      <td>Manager III</td>\n",
       "      <td>NaN</td>\n",
       "      <td>12/22/1985</td>\n",
       "      <td>2018</td>\n",
       "    </tr>\n",
       "  </tbody>\n",
       "</table>\n",
       "</div>"
      ],
      "text/plain": [
       "                  Full Name Gender  Current Annual Salary  Gross Pay Received  \\\n",
       "0               Lee, Tzu C.      F              107346.00            94528.87   \n",
       "1           LeGuellec, Gael      M              128132.42           125131.66   \n",
       "2  Lopez-Cuevas, Claudia V.      F               85430.13            81813.52   \n",
       "3       Maxwell, Ceciley M.      F               65163.92            61867.76   \n",
       "4   McAlpine-Eig, Catherine      F              133283.71            66129.63   \n",
       "\n",
       "   Overtime Pay Department                              Department Name  \\\n",
       "0           0.0        POL                         Department of Police   \n",
       "1           0.0        HCA  Department of Housing and Community Affairs   \n",
       "2           0.0        CUS           Community Use of Public Facilities   \n",
       "3           0.0        CUS           Community Use of Public Facilities   \n",
       "4           0.0        HHS      Department of Health and Human Services   \n",
       "\n",
       "                                  Division Assignment Category  \\\n",
       "0       MSB Management and Budget Division    Fulltime-Regular   \n",
       "1                      Management Services    Fulltime-Regular   \n",
       "2  Finance and Administrative Support Team    Fulltime-Regular   \n",
       "3  Finance and Administrative Support Team    Fulltime-Regular   \n",
       "4         Adult Behavioral Health Services    Fulltime-Regular   \n",
       "\n",
       "                    Employee Position Title        Position Under-Filled  \\\n",
       "0      Management and Budget Specialist III                          NaN   \n",
       "1  Senior Information Technology Specialist                          NaN   \n",
       "2             Administrative Specialist III  Administrative Specialist I   \n",
       "3                      Program Specialist I                          NaN   \n",
       "4                               Manager III                          NaN   \n",
       "\n",
       "  Date First Hired  Year  \n",
       "0       12/08/2008  2018  \n",
       "1       02/16/1999  2018  \n",
       "2       08/23/2004  2018  \n",
       "3       05/26/2006  2018  \n",
       "4       12/22/1985  2018  "
      ]
     },
     "execution_count": 21,
     "metadata": {},
     "output_type": "execute_result"
    }
   ],
   "source": [
    "# checking the packaging\n",
    "emp18_new.head()"
   ]
  },
  {
   "cell_type": "markdown",
   "metadata": {},
   "source": [
    "## Creating \"mcsalaries\" <a class=\"anchor\" id=\"section_2_2\"></a>"
   ]
  },
  {
   "cell_type": "code",
   "execution_count": 22,
   "metadata": {},
   "outputs": [
    {
     "name": "stderr",
     "output_type": "stream",
     "text": [
      "C:\\Users\\murrayl\\AppData\\Local\\Continuum\\anaconda3\\lib\\site-packages\\ipykernel_launcher.py:2: FutureWarning: Sorting because non-concatenation axis is not aligned. A future version\n",
      "of pandas will change to not sort by default.\n",
      "\n",
      "To accept the future behavior, pass 'sort=False'.\n",
      "\n",
      "To retain the current behavior and silence the warning, pass 'sort=True'.\n",
      "\n",
      "  \n"
     ]
    }
   ],
   "source": [
    "# Stack the DataFrames on top of each other\n",
    "mcsalaries = pd.concat([emp14_new, emp15_new, emp16_new, emp17_new, emp18_new], axis=0)"
   ]
  },
  {
   "cell_type": "code",
   "execution_count": 23,
   "metadata": {},
   "outputs": [
    {
     "data": {
      "text/html": [
       "<div>\n",
       "<style scoped>\n",
       "    .dataframe tbody tr th:only-of-type {\n",
       "        vertical-align: middle;\n",
       "    }\n",
       "\n",
       "    .dataframe tbody tr th {\n",
       "        vertical-align: top;\n",
       "    }\n",
       "\n",
       "    .dataframe thead th {\n",
       "        text-align: right;\n",
       "    }\n",
       "</style>\n",
       "<table border=\"1\" class=\"dataframe\">\n",
       "  <thead>\n",
       "    <tr style=\"text-align: right;\">\n",
       "      <th></th>\n",
       "      <th>Assignment Category</th>\n",
       "      <th>Current Annual Salary</th>\n",
       "      <th>Date First Hired</th>\n",
       "      <th>Department</th>\n",
       "      <th>Department Name</th>\n",
       "      <th>Division</th>\n",
       "      <th>Employee Position Title</th>\n",
       "      <th>Full Name</th>\n",
       "      <th>Gender</th>\n",
       "      <th>Gross Pay Received</th>\n",
       "      <th>Overtime Pay</th>\n",
       "      <th>Position Title</th>\n",
       "      <th>Position Under-Filled</th>\n",
       "      <th>Year</th>\n",
       "    </tr>\n",
       "  </thead>\n",
       "  <tbody>\n",
       "    <tr>\n",
       "      <th>0</th>\n",
       "      <td>Fulltime-Regular</td>\n",
       "      <td>67527.83</td>\n",
       "      <td>09/22/1986</td>\n",
       "      <td>POL</td>\n",
       "      <td>Department of Police</td>\n",
       "      <td>MSB Information Management and Technology Divi...</td>\n",
       "      <td>NaN</td>\n",
       "      <td>Aarhus, Pam J</td>\n",
       "      <td>F</td>\n",
       "      <td>69165.79</td>\n",
       "      <td>1202.75</td>\n",
       "      <td>Office Services Coordinator</td>\n",
       "      <td>NaN</td>\n",
       "      <td>2014</td>\n",
       "    </tr>\n",
       "    <tr>\n",
       "      <th>1</th>\n",
       "      <td>Fulltime-Regular</td>\n",
       "      <td>95007.83</td>\n",
       "      <td>09/12/1988</td>\n",
       "      <td>POL</td>\n",
       "      <td>Department of Police</td>\n",
       "      <td>ISB Major Crimes Division Fugitive Section</td>\n",
       "      <td>NaN</td>\n",
       "      <td>Aaron, David J</td>\n",
       "      <td>M</td>\n",
       "      <td>101745.05</td>\n",
       "      <td>6519.66</td>\n",
       "      <td>Master Police Officer</td>\n",
       "      <td>NaN</td>\n",
       "      <td>2014</td>\n",
       "    </tr>\n",
       "    <tr>\n",
       "      <th>2</th>\n",
       "      <td>Fulltime-Regular</td>\n",
       "      <td>102153.00</td>\n",
       "      <td>11/19/1989</td>\n",
       "      <td>HHS</td>\n",
       "      <td>Department of Health and Human Services</td>\n",
       "      <td>Adult Protective and Case Management Services</td>\n",
       "      <td>NaN</td>\n",
       "      <td>Aaron, Marsha M</td>\n",
       "      <td>F</td>\n",
       "      <td>100860.09</td>\n",
       "      <td>285.40</td>\n",
       "      <td>Social Worker IV</td>\n",
       "      <td>NaN</td>\n",
       "      <td>2014</td>\n",
       "    </tr>\n",
       "    <tr>\n",
       "      <th>3</th>\n",
       "      <td>Fulltime-Regular</td>\n",
       "      <td>43657.20</td>\n",
       "      <td>05/05/2014</td>\n",
       "      <td>COR</td>\n",
       "      <td>Correction and Rehabilitation</td>\n",
       "      <td>PRRS Facility and Security</td>\n",
       "      <td>NaN</td>\n",
       "      <td>Ababio, Godfred A</td>\n",
       "      <td>M</td>\n",
       "      <td>31611.67</td>\n",
       "      <td>4395.16</td>\n",
       "      <td>Resident Supervisor II</td>\n",
       "      <td>Resident Supervisor I</td>\n",
       "      <td>2014</td>\n",
       "    </tr>\n",
       "    <tr>\n",
       "      <th>4</th>\n",
       "      <td>Fulltime-Regular</td>\n",
       "      <td>91109.00</td>\n",
       "      <td>03/05/2007</td>\n",
       "      <td>HCA</td>\n",
       "      <td>Department of Housing and Community Affairs</td>\n",
       "      <td>Single Family Housing Program</td>\n",
       "      <td>NaN</td>\n",
       "      <td>Ababu, Essayas</td>\n",
       "      <td>M</td>\n",
       "      <td>90837.34</td>\n",
       "      <td>NaN</td>\n",
       "      <td>Planning Specialist III</td>\n",
       "      <td>NaN</td>\n",
       "      <td>2014</td>\n",
       "    </tr>\n",
       "  </tbody>\n",
       "</table>\n",
       "</div>"
      ],
      "text/plain": [
       "  Assignment Category  Current Annual Salary Date First Hired Department  \\\n",
       "0    Fulltime-Regular               67527.83       09/22/1986        POL   \n",
       "1    Fulltime-Regular               95007.83       09/12/1988        POL   \n",
       "2    Fulltime-Regular              102153.00       11/19/1989        HHS   \n",
       "3    Fulltime-Regular               43657.20       05/05/2014        COR   \n",
       "4    Fulltime-Regular               91109.00       03/05/2007        HCA   \n",
       "\n",
       "                               Department Name  \\\n",
       "0                         Department of Police   \n",
       "1                         Department of Police   \n",
       "2      Department of Health and Human Services   \n",
       "3                Correction and Rehabilitation   \n",
       "4  Department of Housing and Community Affairs   \n",
       "\n",
       "                                            Division Employee Position Title  \\\n",
       "0  MSB Information Management and Technology Divi...                     NaN   \n",
       "1         ISB Major Crimes Division Fugitive Section                     NaN   \n",
       "2      Adult Protective and Case Management Services                     NaN   \n",
       "3                         PRRS Facility and Security                     NaN   \n",
       "4                      Single Family Housing Program                     NaN   \n",
       "\n",
       "           Full Name Gender  Gross Pay Received  Overtime Pay  \\\n",
       "0      Aarhus, Pam J      F            69165.79       1202.75   \n",
       "1     Aaron, David J      M           101745.05       6519.66   \n",
       "2    Aaron, Marsha M      F           100860.09        285.40   \n",
       "3  Ababio, Godfred A      M            31611.67       4395.16   \n",
       "4     Ababu, Essayas      M            90837.34           NaN   \n",
       "\n",
       "                Position Title  Position Under-Filled  Year  \n",
       "0  Office Services Coordinator                    NaN  2014  \n",
       "1        Master Police Officer                    NaN  2014  \n",
       "2             Social Worker IV                    NaN  2014  \n",
       "3       Resident Supervisor II  Resident Supervisor I  2014  \n",
       "4      Planning Specialist III                    NaN  2014  "
      ]
     },
     "execution_count": 23,
     "metadata": {},
     "output_type": "execute_result"
    }
   ],
   "source": [
    "mcsalaries.head()"
   ]
  },
  {
   "cell_type": "code",
   "execution_count": 24,
   "metadata": {},
   "outputs": [
    {
     "data": {
      "text/plain": [
       "array(['Department of Police', 'Department of Health and Human Services',\n",
       "       'Correction and Rehabilitation',\n",
       "       'Department of Housing and Community Affairs',\n",
       "       'Department of Transportation', 'Department of General Services',\n",
       "       'Community Engagement Cluster',\n",
       "       'Department of Technology Services',\n",
       "       'Department of Public Libraries', 'Department of Finance',\n",
       "       \"Sheriff's Office\", 'County Council',\n",
       "       'Department of Liquor Control', 'Board of Appeals Department',\n",
       "       'Fire and Rescue Services', 'Department of Permitting Services',\n",
       "       'Office of Human Resources', 'Offices of the County Executive',\n",
       "       'Office of Human Rights', 'Department of Recreation',\n",
       "       'Department of Environmental Protection',\n",
       "       'Department of Economic Development',\n",
       "       'Office of Management and Budget', \"County Attorney's Office\",\n",
       "       'Community Use of Public Facilities',\n",
       "       'Office of Public Information', 'Office of Consumer Protection',\n",
       "       'Office of Intergovernmental Relations Department',\n",
       "       'Office of Zoning and Administrative Hearings',\n",
       "       'Office of Emergency Management and Homeland Security',\n",
       "       'Office of the Inspector General',\n",
       "       'Office of Legislative Oversight', 'Board of Elections',\n",
       "       'Non-Departmental Account', 'Ethics Commission',\n",
       "       'Merit System Protection Board Department',\n",
       "       'Office of Agriculture', 'Office of Procurement'], dtype=object)"
      ]
     },
     "execution_count": 24,
     "metadata": {},
     "output_type": "execute_result"
    }
   ],
   "source": [
    "mcsalaries['Department Name'].unique()"
   ]
  },
  {
   "cell_type": "markdown",
   "metadata": {},
   "source": [
    "## Creating \"mcpolice\" <a class=\"anchor\" id=\"section_2_3\"></a>"
   ]
  },
  {
   "cell_type": "code",
   "execution_count": 25,
   "metadata": {},
   "outputs": [],
   "source": [
    "mcpolice = mcsalaries[mcsalaries['Department Name']=='Department of Police']"
   ]
  },
  {
   "cell_type": "code",
   "execution_count": 26,
   "metadata": {},
   "outputs": [
    {
     "data": {
      "text/html": [
       "<div>\n",
       "<style scoped>\n",
       "    .dataframe tbody tr th:only-of-type {\n",
       "        vertical-align: middle;\n",
       "    }\n",
       "\n",
       "    .dataframe tbody tr th {\n",
       "        vertical-align: top;\n",
       "    }\n",
       "\n",
       "    .dataframe thead th {\n",
       "        text-align: right;\n",
       "    }\n",
       "</style>\n",
       "<table border=\"1\" class=\"dataframe\">\n",
       "  <thead>\n",
       "    <tr style=\"text-align: right;\">\n",
       "      <th></th>\n",
       "      <th>Assignment Category</th>\n",
       "      <th>Current Annual Salary</th>\n",
       "      <th>Date First Hired</th>\n",
       "      <th>Department</th>\n",
       "      <th>Department Name</th>\n",
       "      <th>Division</th>\n",
       "      <th>Employee Position Title</th>\n",
       "      <th>Full Name</th>\n",
       "      <th>Gender</th>\n",
       "      <th>Gross Pay Received</th>\n",
       "      <th>Overtime Pay</th>\n",
       "      <th>Position Title</th>\n",
       "      <th>Position Under-Filled</th>\n",
       "      <th>Year</th>\n",
       "    </tr>\n",
       "  </thead>\n",
       "  <tbody>\n",
       "    <tr>\n",
       "      <th>0</th>\n",
       "      <td>Fulltime-Regular</td>\n",
       "      <td>67527.83</td>\n",
       "      <td>09/22/1986</td>\n",
       "      <td>POL</td>\n",
       "      <td>Department of Police</td>\n",
       "      <td>MSB Information Management and Technology Divi...</td>\n",
       "      <td>NaN</td>\n",
       "      <td>Aarhus, Pam J</td>\n",
       "      <td>F</td>\n",
       "      <td>69165.79</td>\n",
       "      <td>1202.75</td>\n",
       "      <td>Office Services Coordinator</td>\n",
       "      <td>NaN</td>\n",
       "      <td>2014</td>\n",
       "    </tr>\n",
       "    <tr>\n",
       "      <th>1</th>\n",
       "      <td>Fulltime-Regular</td>\n",
       "      <td>95007.83</td>\n",
       "      <td>09/12/1988</td>\n",
       "      <td>POL</td>\n",
       "      <td>Department of Police</td>\n",
       "      <td>ISB Major Crimes Division Fugitive Section</td>\n",
       "      <td>NaN</td>\n",
       "      <td>Aaron, David J</td>\n",
       "      <td>M</td>\n",
       "      <td>101745.05</td>\n",
       "      <td>6519.66</td>\n",
       "      <td>Master Police Officer</td>\n",
       "      <td>NaN</td>\n",
       "      <td>2014</td>\n",
       "    </tr>\n",
       "    <tr>\n",
       "      <th>5</th>\n",
       "      <td>Fulltime-Regular</td>\n",
       "      <td>63056.51</td>\n",
       "      <td>07/16/2007</td>\n",
       "      <td>POL</td>\n",
       "      <td>Department of Police</td>\n",
       "      <td>PSB 6th District Special Assignment Team</td>\n",
       "      <td>NaN</td>\n",
       "      <td>Abbamonte, Drew B</td>\n",
       "      <td>M</td>\n",
       "      <td>82599.35</td>\n",
       "      <td>18045.28</td>\n",
       "      <td>Police Officer III</td>\n",
       "      <td>NaN</td>\n",
       "      <td>2014</td>\n",
       "    </tr>\n",
       "    <tr>\n",
       "      <th>8</th>\n",
       "      <td>Fulltime-Regular</td>\n",
       "      <td>43410.92</td>\n",
       "      <td>02/05/2007</td>\n",
       "      <td>POL</td>\n",
       "      <td>Department of Police</td>\n",
       "      <td>FSB Traffic Division Automated Traffic Enforce...</td>\n",
       "      <td>NaN</td>\n",
       "      <td>Abdul-Ghani, Hasinah J.</td>\n",
       "      <td>F</td>\n",
       "      <td>44010.18</td>\n",
       "      <td>20.97</td>\n",
       "      <td>Police Aide</td>\n",
       "      <td>NaN</td>\n",
       "      <td>2014</td>\n",
       "    </tr>\n",
       "    <tr>\n",
       "      <th>18</th>\n",
       "      <td>Parttime-Regular</td>\n",
       "      <td>19821.46</td>\n",
       "      <td>03/08/2004</td>\n",
       "      <td>POL</td>\n",
       "      <td>Department of Police</td>\n",
       "      <td>FSB Traffic Division School Safety Section</td>\n",
       "      <td>NaN</td>\n",
       "      <td>Abkarian, Maral</td>\n",
       "      <td>F</td>\n",
       "      <td>9433.00</td>\n",
       "      <td>42.89</td>\n",
       "      <td>Crossing Guard</td>\n",
       "      <td>NaN</td>\n",
       "      <td>2014</td>\n",
       "    </tr>\n",
       "  </tbody>\n",
       "</table>\n",
       "</div>"
      ],
      "text/plain": [
       "   Assignment Category  Current Annual Salary Date First Hired Department  \\\n",
       "0     Fulltime-Regular               67527.83       09/22/1986        POL   \n",
       "1     Fulltime-Regular               95007.83       09/12/1988        POL   \n",
       "5     Fulltime-Regular               63056.51       07/16/2007        POL   \n",
       "8     Fulltime-Regular               43410.92       02/05/2007        POL   \n",
       "18    Parttime-Regular               19821.46       03/08/2004        POL   \n",
       "\n",
       "         Department Name                                           Division  \\\n",
       "0   Department of Police  MSB Information Management and Technology Divi...   \n",
       "1   Department of Police         ISB Major Crimes Division Fugitive Section   \n",
       "5   Department of Police           PSB 6th District Special Assignment Team   \n",
       "8   Department of Police  FSB Traffic Division Automated Traffic Enforce...   \n",
       "18  Department of Police         FSB Traffic Division School Safety Section   \n",
       "\n",
       "   Employee Position Title                Full Name Gender  \\\n",
       "0                      NaN            Aarhus, Pam J      F   \n",
       "1                      NaN           Aaron, David J      M   \n",
       "5                      NaN        Abbamonte, Drew B      M   \n",
       "8                      NaN  Abdul-Ghani, Hasinah J.      F   \n",
       "18                     NaN          Abkarian, Maral      F   \n",
       "\n",
       "    Gross Pay Received  Overtime Pay               Position Title  \\\n",
       "0             69165.79       1202.75  Office Services Coordinator   \n",
       "1            101745.05       6519.66        Master Police Officer   \n",
       "5             82599.35      18045.28           Police Officer III   \n",
       "8             44010.18         20.97                  Police Aide   \n",
       "18             9433.00         42.89               Crossing Guard   \n",
       "\n",
       "   Position Under-Filled  Year  \n",
       "0                    NaN  2014  \n",
       "1                    NaN  2014  \n",
       "5                    NaN  2014  \n",
       "8                    NaN  2014  \n",
       "18                   NaN  2014  "
      ]
     },
     "execution_count": 26,
     "metadata": {},
     "output_type": "execute_result"
    }
   ],
   "source": [
    "mcpolice.head()"
   ]
  },
  {
   "cell_type": "markdown",
   "metadata": {},
   "source": [
    "# Answering Phase I Questions <a class=\"anchor\" id=\"section_2_4\"></a>"
   ]
  },
  {
   "cell_type": "markdown",
   "metadata": {},
   "source": [
    "## How did annual salary of MC employees change by gender from 2014 to 2018?  <a class=\"anchor\" id=\"section_2_4_1\"></a>\n",
    "\n",
    "I approached this question by utilizing boxplots, violin plots, and the 5-number statistics summary. With the Seaborn package, I created two boxplots indicating the Current Annual Salary for employees each year with differing colors representing gender. I created violin plots which show the same data in a very similar way. However, wider sections of the curves represent a higher probability that employees will have that current annual salary, while skinnier sections represent a lower probability. The 5-number statistics summary provides the minimum, maximum, medium, lower and upper quartiles. These values are represented by the lines on the box plots as well as by the dashed line in the violin plots.\n",
    "\n",
    "<b>Conclusion</b>: overall, the annual salary of MC employees did not change very much. It slightly increased, as we might assume would naturally occur due to inflation. Further, it is consistent in every year that males had a slightly higher current annual salary.<i></i>"
   ]
  },
  {
   "cell_type": "markdown",
   "metadata": {},
   "source": [
    "#### Boxplot of Annual Salary by Year and Gender"
   ]
  },
  {
   "cell_type": "code",
   "execution_count": 27,
   "metadata": {
    "scrolled": true
   },
   "outputs": [
    {
     "name": "stderr",
     "output_type": "stream",
     "text": [
      "C:\\Users\\murrayl\\AppData\\Local\\Continuum\\anaconda3\\lib\\site-packages\\seaborn\\categorical.py:3666: UserWarning: The `factorplot` function has been renamed to `catplot`. The original name will be removed in a future release. Please update your code. Note that the default `kind` in `factorplot` (`'point'`) has changed `'strip'` in `catplot`.\n",
      "  warnings.warn(msg)\n"
     ]
    },
    {
     "data": {
      "image/png": "[encoded data removed]",
      "text/plain": [
       "<Figure size 720x432 with 1 Axes>"
      ]
     },
     "metadata": {},
     "output_type": "display_data"
    }
   ],
   "source": [
    "with sns.axes_style(style='ticks'):\n",
    "    g = sns.factorplot(\"Year\", \"Current Annual Salary\", \"Gender\", data=mcsalaries, kind=\"box\", palette=\"Set2\")\n",
    "    g.set_axis_labels(\"Year\", \"Current Annual Salary\")\n",
    "    g.fig.suptitle(\"Current Annual Salary of MC Employees by Year and Gender\")\n",
    "    g.fig.set_figheight(6)\n",
    "    g.fig.set_figwidth(10)"
   ]
  },
  {
   "cell_type": "markdown",
   "metadata": {},
   "source": [
    "#### Violinplot of Annual Salary by Year and Gender"
   ]
  },
  {
   "cell_type": "code",
   "execution_count": 28,
   "metadata": {},
   "outputs": [
    {
     "data": {
      "image/png": "[encoded data removed]",
      "text/plain": [
       "<Figure size 432x288 with 1 Axes>"
      ]
     },
     "metadata": {
      "needs_background": "light"
     },
     "output_type": "display_data"
    }
   ],
   "source": [
    "# violin plot with horizontal lines representing quartiles\n",
    "violin_plot1 = sns.violinplot(x=\"Year\", y=\"Current Annual Salary\", hue=\"Gender\",\n",
    "                    data=mcsalaries, palette=\"Set2\", split=True,\n",
    "                    scale=\"count\", inner=\"quartile\")"
   ]
  },
  {
   "cell_type": "markdown",
   "metadata": {},
   "source": [
    "#### 5-Number Summary for Male and Female MC Employees in 2014"
   ]
  },
  {
   "cell_type": "code",
   "execution_count": 29,
   "metadata": {},
   "outputs": [
    {
     "name": "stdout",
     "output_type": "stream",
     "text": [
      "5-Number Summary for Male MC Employees in 2014\n",
      "Min: 7200.000\n",
      "Q1: 50106.540\n",
      "Median: 66000.000\n",
      "Q3: 88684.360\n",
      "Max: 294263.000\n"
     ]
    }
   ],
   "source": [
    "# filter by gender\n",
    "male14 = emp14_new.loc[emp14_new['Gender'] == 'M']\n",
    "\n",
    "# calculate quartiles\n",
    "quartilesm14 = percentile(male14[\"Current Annual Salary\"], [25, 50, 75])\n",
    "\n",
    "# calculate min/max\n",
    "data_minm14, data_maxm14 = male14[\"Current Annual Salary\"].min(), male14[\"Current Annual Salary\"].max()\n",
    "\n",
    "# print 5-number summary\n",
    "print('5-Number Summary for Male MC Employees in 2014')\n",
    "print('Min: %.3f' % data_minm14)\n",
    "print('Q1: %.3f' % quartilesm14[0])\n",
    "print('Median: %.3f' % quartilesm14[1])\n",
    "print('Q3: %.3f' % quartilesm14[2])\n",
    "print('Max: %.3f' % data_maxm14)"
   ]
  },
  {
   "cell_type": "code",
   "execution_count": 30,
   "metadata": {},
   "outputs": [
    {
     "name": "stdout",
     "output_type": "stream",
     "text": [
      "5-Number Summary for Female MC Employees in 2014\n",
      "Min: 14221.000\n",
      "Q1: 47784.130\n",
      "Median: 65471.410\n",
      "Q3: 85379.790\n",
      "Max: 221731.000\n"
     ]
    }
   ],
   "source": [
    "# filter by gender\n",
    "female14 = emp14_new.loc[emp14_new['Gender'] == 'F']\n",
    "\n",
    "# calculate quartiles\n",
    "quartilesf14 = percentile(female14[\"Current Annual Salary\"], [25, 50, 75])\n",
    "\n",
    "# calculate min/max\n",
    "data_minf14, data_maxf14 = female14[\"Current Annual Salary\"].min(), female14[\"Current Annual Salary\"].max()\n",
    "\n",
    "# print 5-number summary\n",
    "print('5-Number Summary for Female MC Employees in 2014')\n",
    "print('Min: %.3f' % data_minf14)\n",
    "print('Q1: %.3f' % quartilesf14[0])\n",
    "print('Median: %.3f' % quartilesf14[1])\n",
    "print('Q3: %.3f' % quartilesf14[2])\n",
    "print('Max: %.3f' % data_maxf14)"
   ]
  },
  {
   "cell_type": "markdown",
   "metadata": {},
   "source": [
    "#### 5-Number Summary for Male and Female MC Employees in 2018"
   ]
  },
  {
   "cell_type": "code",
   "execution_count": 31,
   "metadata": {},
   "outputs": [
    {
     "name": "stdout",
     "output_type": "stream",
     "text": [
      "5-Number Summary for Male MC Employees in 2018\n",
      "Min: 11147.240\n",
      "Q1: 56742.000\n",
      "Median: 75804.000\n",
      "Q3: 96985.710\n",
      "Max: 303091.000\n"
     ]
    }
   ],
   "source": [
    "# filter by gender\n",
    "male18 = emp18_new.loc[emp18_new['Gender'] == 'M']\n",
    "\n",
    "# calculate quartiles\n",
    "quartilesm18 = percentile(male18[\"Current Annual Salary\"], [25, 50, 75])\n",
    "\n",
    "# calculate min/max\n",
    "data_minm18, data_maxm18 = male18[\"Current Annual Salary\"].min(), male18[\"Current Annual Salary\"].max()\n",
    "\n",
    "# print 5-number summary\n",
    "print('5-Number Summary for Male MC Employees in 2018')\n",
    "print('Min: %.3f' % data_minm18)\n",
    "print('Q1: %.3f' % quartilesm18[0])\n",
    "print('Median: %.3f' % quartilesm18[1])\n",
    "print('Q3: %.3f' % quartilesm18[2])\n",
    "print('Max: %.3f' % data_maxm18)"
   ]
  },
  {
   "cell_type": "code",
   "execution_count": 32,
   "metadata": {},
   "outputs": [
    {
     "name": "stdout",
     "output_type": "stream",
     "text": [
      "5-Number Summary for Female MC Employees in 2018\n",
      "Min: 15647.000\n",
      "Q1: 53100.660\n",
      "Median: 72475.020\n",
      "Q3: 95934.200\n",
      "Max: 221731.000\n"
     ]
    }
   ],
   "source": [
    "# filter by gender\n",
    "female18 = emp18_new.loc[emp18_new['Gender'] == 'F']\n",
    "\n",
    "# calculate quartiles\n",
    "quartilesf18 = percentile(female18[\"Current Annual Salary\"], [25, 50, 75])\n",
    "\n",
    "# calculate min/max\n",
    "data_minf18, data_maxf18 = female18[\"Current Annual Salary\"].min(), female14[\"Current Annual Salary\"].max()\n",
    "\n",
    "# print 5-number summary\n",
    "print('5-Number Summary for Female MC Employees in 2018')\n",
    "print('Min: %.3f' % data_minf18)\n",
    "print('Q1: %.3f' % quartilesf18[0])\n",
    "print('Median: %.3f' % quartilesf18[1])\n",
    "print('Q3: %.3f' % quartilesf18[2])\n",
    "print('Max: %.3f' % data_maxf18)"
   ]
  },
  {
   "cell_type": "markdown",
   "metadata": {},
   "source": [
    "#### A quick look by assignment category:"
   ]
  },
  {
   "cell_type": "code",
   "execution_count": 33,
   "metadata": {},
   "outputs": [
    {
     "name": "stderr",
     "output_type": "stream",
     "text": [
      "C:\\Users\\murrayl\\AppData\\Local\\Continuum\\anaconda3\\lib\\site-packages\\seaborn\\categorical.py:3666: UserWarning: The `factorplot` function has been renamed to `catplot`. The original name will be removed in a future release. Please update your code. Note that the default `kind` in `factorplot` (`'point'`) has changed `'strip'` in `catplot`.\n",
      "  warnings.warn(msg)\n"
     ]
    },
    {
     "data": {
      "image/png": "[encoded data removed]",
      "text/plain": [
       "<Figure size 720x432 with 1 Axes>"
      ]
     },
     "metadata": {},
     "output_type": "display_data"
    }
   ],
   "source": [
    "with sns.axes_style(style='ticks'):\n",
    "    g = sns.factorplot(\"Year\", \"Current Annual Salary\", \"Assignment Category\", data=mcsalaries, kind=\"box\")\n",
    "    g.set_axis_labels(\"Year\", \"Current Annual Salary\")\n",
    "    g.fig.suptitle(\"Current Annual Salary of MC Employees by Year and Assignment Category\")\n",
    "    g.fig.set_figheight(6)\n",
    "    g.fig.set_figwidth(10)"
   ]
  },
  {
   "cell_type": "code",
   "execution_count": 34,
   "metadata": {},
   "outputs": [
    {
     "data": {
      "image/png": "[encoded data removed]",
      "text/plain": [
       "<Figure size 432x288 with 1 Axes>"
      ]
     },
     "metadata": {
      "needs_background": "light"
     },
     "output_type": "display_data"
    }
   ],
   "source": [
    "violin_plot = sns.violinplot(x=\"Year\", y=\"Current Annual Salary\", hue=\"Assignment Category\",\n",
    "                    data=mcsalaries, palette=\"muted\", split=True)"
   ]
  },
  {
   "cell_type": "markdown",
   "metadata": {},
   "source": [
    "### How did annual salary of MC police change by gender from 2014 to 2018?  <a class=\"anchor\" id=\"section_2_4_2\"></a>\n",
    "\n",
    "I approached this question identically to how I examined MC employees, utilizing the \"mcpolice\" dataframe that I created by wrangling the original \"mcsalaries\" dataframe.\n",
    "\n",
    "<b>Conclusion:</b> overall, the annual salary of MC employees in the police department specifically did not increase much over this five-year period. However, it is consistent in every year there was a greater disparity of males having a higher current annual salary."
   ]
  },
  {
   "cell_type": "markdown",
   "metadata": {},
   "source": [
    "#### Boxplot of Annual Salaries of Police by Year and Gender"
   ]
  },
  {
   "cell_type": "code",
   "execution_count": 35,
   "metadata": {},
   "outputs": [
    {
     "name": "stderr",
     "output_type": "stream",
     "text": [
      "C:\\Users\\murrayl\\AppData\\Local\\Continuum\\anaconda3\\lib\\site-packages\\seaborn\\categorical.py:3666: UserWarning: The `factorplot` function has been renamed to `catplot`. The original name will be removed in a future release. Please update your code. Note that the default `kind` in `factorplot` (`'point'`) has changed `'strip'` in `catplot`.\n",
      "  warnings.warn(msg)\n"
     ]
    },
    {
     "data": {
      "image/png": "[encoded data removed]",
      "text/plain": [
       "<Figure size 720x432 with 1 Axes>"
      ]
     },
     "metadata": {},
     "output_type": "display_data"
    }
   ],
   "source": [
    "with sns.axes_style(style='ticks'):\n",
    "    g = sns.factorplot(\"Year\", \"Current Annual Salary\", \"Gender\", data=mcpolice, kind=\"box\", palette=\"Set3\")\n",
    "    g.set_axis_labels(\"Year\", \"Current Annual Salary\")\n",
    "    g.fig.suptitle(\"Current Annual Salary of MC Police Employees by Year and Sex\")\n",
    "    g.fig.set_figheight(6)\n",
    "    g.fig.set_figwidth(10)"
   ]
  },
  {
   "cell_type": "markdown",
   "metadata": {},
   "source": [
    "#### Violinplot of Annual Salaries of Police by Year and Gender"
   ]
  },
  {
   "cell_type": "code",
   "execution_count": 36,
   "metadata": {},
   "outputs": [
    {
     "data": {
      "image/png": "[encoded data removed]",
      "text/plain": [
       "<Figure size 432x288 with 1 Axes>"
      ]
     },
     "metadata": {
      "needs_background": "light"
     },
     "output_type": "display_data"
    }
   ],
   "source": [
    "# violin plot with horizontal lines representing quartiles\n",
    "violin_plot2 = sns.violinplot(x=\"Year\", y=\"Current Annual Salary\", hue=\"Gender\",\n",
    "                    data=mcpolice, palette=\"Set3\", split=True,\n",
    "                    scale=\"count\", inner=\"quartile\")"
   ]
  },
  {
   "cell_type": "markdown",
   "metadata": {},
   "source": [
    "#### 5-Number Summary for Male and Female Police Employees in 2014"
   ]
  },
  {
   "cell_type": "code",
   "execution_count": 37,
   "metadata": {},
   "outputs": [
    {
     "name": "stdout",
     "output_type": "stream",
     "text": [
      "5-Number Summary for Male Police Employees in 2014\n",
      "Min: 15656.000\n",
      "Q1: 56059.160\n",
      "Median: 74513.760\n",
      "Q3: 90484.880\n",
      "Max: 232588.000\n"
     ]
    }
   ],
   "source": [
    "# filter by gender and year\n",
    "mcpolice_male14 = mcpolice.loc[(mcpolice['Gender'] == 'M') & (mcpolice['Year'] == '2014')]\n",
    "\n",
    "# calculate quartiles\n",
    "quartilespm14 = percentile(mcpolice_male14[\"Current Annual Salary\"], [25, 50, 75])\n",
    "\n",
    "# calculate min/max\n",
    "data_minpm14, data_maxpm14 = mcpolice_male14[\"Current Annual Salary\"].min(), mcpolice_male14[\"Current Annual Salary\"].max()\n",
    "\n",
    "# print 5-number summary\n",
    "print('5-Number Summary for Male Police Employees in 2014')\n",
    "print('Min: %.3f' % data_minpm14)\n",
    "print('Q1: %.3f' % quartilespm14[0])\n",
    "print('Median: %.3f' % quartilespm14[1])\n",
    "print('Q3: %.3f' % quartilespm14[2])\n",
    "print('Max: %.3f' % data_maxpm14)"
   ]
  },
  {
   "cell_type": "code",
   "execution_count": 38,
   "metadata": {},
   "outputs": [
    {
     "name": "stdout",
     "output_type": "stream",
     "text": [
      "5-Number Summary for Male MC Employees in 2014\n",
      "Min: 15656.000\n",
      "Q1: 38296.000\n",
      "Median: 55837.710\n",
      "Q3: 73102.393\n",
      "Max: 169093.000\n"
     ]
    }
   ],
   "source": [
    "# filter by gender and year\n",
    "mcpolice_female14 = mcpolice.loc[(mcpolice['Gender'] == 'F') & (mcpolice['Year'] == '2014')]\n",
    "\n",
    "# calculate quartiles\n",
    "quartilespf14 = percentile(mcpolice_female14[\"Current Annual Salary\"], [25, 50, 75])\n",
    "\n",
    "# calculate min/max\n",
    "data_minpf14, data_maxpf14 = mcpolice_female14[\"Current Annual Salary\"].min(), mcpolice_female14[\"Current Annual Salary\"].max()\n",
    "\n",
    "# print 5-number summary\n",
    "print('5-Number Summary for Male MC Employees in 2014')\n",
    "print('Min: %.3f' % data_minpf14)\n",
    "print('Q1: %.3f' % quartilespf14[0])\n",
    "print('Median: %.3f' % quartilespf14[1])\n",
    "print('Q3: %.3f' % quartilespf14[2])\n",
    "print('Max: %.3f' % data_maxpf14)"
   ]
  },
  {
   "cell_type": "markdown",
   "metadata": {},
   "source": [
    "#### 5-Number Summary for Male and Female MC Employees in 2018"
   ]
  },
  {
   "cell_type": "code",
   "execution_count": 39,
   "metadata": {},
   "outputs": [
    {
     "name": "stdout",
     "output_type": "stream",
     "text": [
      "5-Number Summary for Male Police Employees in 2014\n",
      "Min: 16451.500\n",
      "Q1: 66800.000\n",
      "Median: 84515.000\n",
      "Q3: 96985.710\n",
      "Max: 239566.000\n"
     ]
    }
   ],
   "source": [
    "# filter by gender and year\n",
    "mcpolice_male18 = mcpolice.loc[(mcpolice['Gender'] == 'M') & (mcpolice['Year'] == '2018')]\n",
    "\n",
    "# calculate quartiles\n",
    "quartilespm18 = percentile(mcpolice_male18[\"Current Annual Salary\"], [25, 50, 75])\n",
    "\n",
    "# calculate min/max\n",
    "data_minpm18, data_maxpm18 = mcpolice_male18[\"Current Annual Salary\"].min(), mcpolice_male18[\"Current Annual Salary\"].max()\n",
    "\n",
    "# print 5-number summary\n",
    "print('5-Number Summary for Male Police Employees in 2014')\n",
    "print('Min: %.3f' % data_minpm18)\n",
    "print('Q1: %.3f' % quartilespm18[0])\n",
    "print('Median: %.3f' % quartilespm18[1])\n",
    "print('Q3: %.3f' % quartilespm18[2])\n",
    "print('Max: %.3f' % data_maxpm18)"
   ]
  },
  {
   "cell_type": "code",
   "execution_count": 40,
   "metadata": {},
   "outputs": [
    {
     "name": "stdout",
     "output_type": "stream",
     "text": [
      "5-Number Summary for Male MC Employees in 2014\n",
      "Min: 16451.500\n",
      "Q1: 45151.520\n",
      "Median: 64261.710\n",
      "Q3: 84515.000\n",
      "Max: 177649.000\n"
     ]
    }
   ],
   "source": [
    "# filter by gender and year\n",
    "mcpolice_female18 = mcpolice.loc[(mcpolice['Gender'] == 'F') & (mcpolice['Year'] == '2018')]\n",
    "\n",
    "# calculate quartiles\n",
    "quartilespf18 = percentile(mcpolice_female18[\"Current Annual Salary\"], [25, 50, 75])\n",
    "\n",
    "# calculate min/max\n",
    "data_minpf18, data_maxpf18 = mcpolice_female18[\"Current Annual Salary\"].min(), mcpolice_female18[\"Current Annual Salary\"].max()\n",
    "\n",
    "# print 5-number summary\n",
    "print('5-Number Summary for Male MC Employees in 2014')\n",
    "print('Min: %.3f' % data_minpf18)\n",
    "print('Q1: %.3f' % quartilespf18[0])\n",
    "print('Median: %.3f' % quartilespf18[1])\n",
    "print('Q3: %.3f' % quartilespf18[2])\n",
    "print('Max: %.3f' % data_maxpf18)"
   ]
  },
  {
   "cell_type": "markdown",
   "metadata": {},
   "source": [
    "# Crime <a class=\"anchor\" id=\"chapter3\"></a>"
   ]
  },
  {
   "cell_type": "markdown",
   "metadata": {},
   "source": [
    "## Reading the Data <a class=\"anchor\" id=\"section_3_1\"></a>"
   ]
  },
  {
   "cell_type": "code",
   "execution_count": 41,
   "metadata": {},
   "outputs": [
    {
     "name": "stderr",
     "output_type": "stream",
     "text": [
      "C:\\Users\\murrayl\\AppData\\Local\\Continuum\\anaconda3\\lib\\site-packages\\IPython\\core\\interactiveshell.py:3057: DtypeWarning: Columns (1,18) have mixed types. Specify dtype option on import or set low_memory=False.\n",
      "  interactivity=interactivity, compiler=compiler, result=result)\n"
     ]
    }
   ],
   "source": [
    "# reading the data into a dataframe using pandas\n",
    "crime = pd.read_csv(\"DM_crime.csv\")"
   ]
  },
  {
   "cell_type": "code",
   "execution_count": 42,
   "metadata": {},
   "outputs": [
    {
     "data": {
      "text/html": [
       "<div>\n",
       "<style scoped>\n",
       "    .dataframe tbody tr th:only-of-type {\n",
       "        vertical-align: middle;\n",
       "    }\n",
       "\n",
       "    .dataframe tbody tr th {\n",
       "        vertical-align: top;\n",
       "    }\n",
       "\n",
       "    .dataframe thead th {\n",
       "        text-align: right;\n",
       "    }\n",
       "</style>\n",
       "<table border=\"1\" class=\"dataframe\">\n",
       "  <thead>\n",
       "    <tr style=\"text-align: right;\">\n",
       "      <th></th>\n",
       "      <th>Incident ID</th>\n",
       "      <th>Offence Code</th>\n",
       "      <th>CR Number</th>\n",
       "      <th>Dispatch Date / Time</th>\n",
       "      <th>NIBRS Code</th>\n",
       "      <th>Victims</th>\n",
       "      <th>Crime Name1</th>\n",
       "      <th>Crime Name2</th>\n",
       "      <th>Crime Name3</th>\n",
       "      <th>Police District Name</th>\n",
       "      <th>...</th>\n",
       "      <th>Street Prefix</th>\n",
       "      <th>Street Name</th>\n",
       "      <th>Street Suffix</th>\n",
       "      <th>Street Type</th>\n",
       "      <th>Start_Date_Time</th>\n",
       "      <th>End_Date_Time</th>\n",
       "      <th>Latitude</th>\n",
       "      <th>Longitude</th>\n",
       "      <th>Police District Number</th>\n",
       "      <th>Location</th>\n",
       "    </tr>\n",
       "  </thead>\n",
       "  <tbody>\n",
       "    <tr>\n",
       "      <th>0</th>\n",
       "      <td>201212149</td>\n",
       "      <td>2303</td>\n",
       "      <td>180053890</td>\n",
       "      <td>NaN</td>\n",
       "      <td>23C</td>\n",
       "      <td>1</td>\n",
       "      <td>Crime Against Property</td>\n",
       "      <td>Shoplifting</td>\n",
       "      <td>LARCENY - SHOPLIFTING</td>\n",
       "      <td>GERMANTOWN</td>\n",
       "      <td>...</td>\n",
       "      <td>NaN</td>\n",
       "      <td>FREDERICK</td>\n",
       "      <td>NaN</td>\n",
       "      <td>RD</td>\n",
       "      <td>10/27/2018 09:15:00 PM</td>\n",
       "      <td>NaN</td>\n",
       "      <td>39.198413</td>\n",
       "      <td>-77.244946</td>\n",
       "      <td>5D</td>\n",
       "      <td>(39.1984, -77.2449)</td>\n",
       "    </tr>\n",
       "    <tr>\n",
       "      <th>1</th>\n",
       "      <td>201223224</td>\n",
       "      <td>2303</td>\n",
       "      <td>190002520</td>\n",
       "      <td>01/16/2019 03:51:46 PM</td>\n",
       "      <td>23C</td>\n",
       "      <td>1</td>\n",
       "      <td>Crime Against Property</td>\n",
       "      <td>Shoplifting</td>\n",
       "      <td>LARCENY - SHOPLIFTING</td>\n",
       "      <td>WHEATON</td>\n",
       "      <td>...</td>\n",
       "      <td>NaN</td>\n",
       "      <td>VEIRS MILL</td>\n",
       "      <td>NaN</td>\n",
       "      <td>RD</td>\n",
       "      <td>01/16/2019 03:51:00 PM</td>\n",
       "      <td>NaN</td>\n",
       "      <td>39.037367</td>\n",
       "      <td>-77.051662</td>\n",
       "      <td>4D</td>\n",
       "      <td>(39.0374, -77.0517)</td>\n",
       "    </tr>\n",
       "    <tr>\n",
       "      <th>2</th>\n",
       "      <td>201224613</td>\n",
       "      <td>2006</td>\n",
       "      <td>190004310</td>\n",
       "      <td>01/27/2019 06:05:56 PM</td>\n",
       "      <td>200</td>\n",
       "      <td>1</td>\n",
       "      <td>Crime Against Property</td>\n",
       "      <td>Arson</td>\n",
       "      <td>ARSON - RESIDENTIAL</td>\n",
       "      <td>MONTGOMERY VILLAGE</td>\n",
       "      <td>...</td>\n",
       "      <td>NaN</td>\n",
       "      <td>GIRARD</td>\n",
       "      <td>NaN</td>\n",
       "      <td>ST</td>\n",
       "      <td>01/27/2019 06:05:00 PM</td>\n",
       "      <td>NaN</td>\n",
       "      <td>39.146531</td>\n",
       "      <td>-77.184940</td>\n",
       "      <td>6D</td>\n",
       "      <td>(39.1465, -77.1849)</td>\n",
       "    </tr>\n",
       "    <tr>\n",
       "      <th>3</th>\n",
       "      <td>201224656</td>\n",
       "      <td>3562</td>\n",
       "      <td>190003643</td>\n",
       "      <td>01/23/2019 09:45:45 PM</td>\n",
       "      <td>35A</td>\n",
       "      <td>1</td>\n",
       "      <td>Crime Against Society</td>\n",
       "      <td>Drug/Narcotic Violations</td>\n",
       "      <td>DRUGS - MARIJUANA - POSSESS</td>\n",
       "      <td>WHEATON</td>\n",
       "      <td>...</td>\n",
       "      <td>NaN</td>\n",
       "      <td>BURNLEY</td>\n",
       "      <td>NaN</td>\n",
       "      <td>TER</td>\n",
       "      <td>01/23/2019 09:45:00 PM</td>\n",
       "      <td>NaN</td>\n",
       "      <td>39.036571</td>\n",
       "      <td>-77.047454</td>\n",
       "      <td>4D</td>\n",
       "      <td>(39.0366, -77.0475)</td>\n",
       "    </tr>\n",
       "    <tr>\n",
       "      <th>4</th>\n",
       "      <td>201267200</td>\n",
       "      <td>1103</td>\n",
       "      <td>190057412</td>\n",
       "      <td>11/28/2019 06:08:02 AM</td>\n",
       "      <td>11A</td>\n",
       "      <td>1</td>\n",
       "      <td>Crime Against Person</td>\n",
       "      <td>Forcible Rape</td>\n",
       "      <td>RAPE - STRONG-ARM</td>\n",
       "      <td>WHEATON</td>\n",
       "      <td>...</td>\n",
       "      <td>NaN</td>\n",
       "      <td>GEORGIA</td>\n",
       "      <td>NaN</td>\n",
       "      <td>AVE</td>\n",
       "      <td>11/28/2019 06:08:00 AM</td>\n",
       "      <td>NaN</td>\n",
       "      <td>39.034255</td>\n",
       "      <td>-77.049163</td>\n",
       "      <td>4D</td>\n",
       "      <td>(39.0343, -77.0492)</td>\n",
       "    </tr>\n",
       "  </tbody>\n",
       "</table>\n",
       "<p>5 rows × 30 columns</p>\n",
       "</div>"
      ],
      "text/plain": [
       "   Incident ID Offence Code  CR Number    Dispatch Date / Time NIBRS Code  \\\n",
       "0    201212149         2303  180053890                     NaN        23C   \n",
       "1    201223224         2303  190002520  01/16/2019 03:51:46 PM        23C   \n",
       "2    201224613         2006  190004310  01/27/2019 06:05:56 PM        200   \n",
       "3    201224656         3562  190003643  01/23/2019 09:45:45 PM        35A   \n",
       "4    201267200         1103  190057412  11/28/2019 06:08:02 AM        11A   \n",
       "\n",
       "   Victims             Crime Name1               Crime Name2  \\\n",
       "0        1  Crime Against Property               Shoplifting   \n",
       "1        1  Crime Against Property               Shoplifting   \n",
       "2        1  Crime Against Property                     Arson   \n",
       "3        1   Crime Against Society  Drug/Narcotic Violations   \n",
       "4        1    Crime Against Person             Forcible Rape   \n",
       "\n",
       "                   Crime Name3 Police District Name  ... Street Prefix  \\\n",
       "0        LARCENY - SHOPLIFTING           GERMANTOWN  ...           NaN   \n",
       "1        LARCENY - SHOPLIFTING              WHEATON  ...           NaN   \n",
       "2          ARSON - RESIDENTIAL   MONTGOMERY VILLAGE  ...           NaN   \n",
       "3  DRUGS - MARIJUANA - POSSESS              WHEATON  ...           NaN   \n",
       "4            RAPE - STRONG-ARM              WHEATON  ...           NaN   \n",
       "\n",
       "  Street Name Street Suffix  Street Type         Start_Date_Time  \\\n",
       "0   FREDERICK           NaN           RD  10/27/2018 09:15:00 PM   \n",
       "1  VEIRS MILL           NaN           RD  01/16/2019 03:51:00 PM   \n",
       "2      GIRARD           NaN           ST  01/27/2019 06:05:00 PM   \n",
       "3     BURNLEY           NaN          TER  01/23/2019 09:45:00 PM   \n",
       "4     GEORGIA           NaN          AVE  11/28/2019 06:08:00 AM   \n",
       "\n",
       "  End_Date_Time   Latitude  Longitude Police District Number  \\\n",
       "0           NaN  39.198413 -77.244946                     5D   \n",
       "1           NaN  39.037367 -77.051662                     4D   \n",
       "2           NaN  39.146531 -77.184940                     6D   \n",
       "3           NaN  39.036571 -77.047454                     4D   \n",
       "4           NaN  39.034255 -77.049163                     4D   \n",
       "\n",
       "              Location  \n",
       "0  (39.1984, -77.2449)  \n",
       "1  (39.0374, -77.0517)  \n",
       "2  (39.1465, -77.1849)  \n",
       "3  (39.0366, -77.0475)  \n",
       "4  (39.0343, -77.0492)  \n",
       "\n",
       "[5 rows x 30 columns]"
      ]
     },
     "execution_count": 42,
     "metadata": {},
     "output_type": "execute_result"
    }
   ],
   "source": [
    "# displaying the full dataset\n",
    "crime.head()"
   ]
  },
  {
   "cell_type": "markdown",
   "metadata": {},
   "source": [
    "### Parsing Date Time"
   ]
  },
  {
   "cell_type": "code",
   "execution_count": 43,
   "metadata": {},
   "outputs": [],
   "source": [
    "# creating a new column in the datetime format\n",
    "crime['date_new'] = pd.to_datetime(crime['Start_Date_Time'], format='%m/%d/%Y %I:%M:%S %p')"
   ]
  },
  {
   "cell_type": "code",
   "execution_count": 44,
   "metadata": {},
   "outputs": [],
   "source": [
    "crime['year'] = crime['date_new'].dt.year"
   ]
  },
  {
   "cell_type": "code",
   "execution_count": 45,
   "metadata": {},
   "outputs": [],
   "source": [
    "crime['time'] = crime['date_new'].dt.time"
   ]
  },
  {
   "cell_type": "code",
   "execution_count": 46,
   "metadata": {},
   "outputs": [],
   "source": [
    "crime['weekday'] = crime['date_new'].dt.weekday\n",
    "#Monday is 0 and Sunday is 6"
   ]
  },
  {
   "cell_type": "markdown",
   "metadata": {},
   "source": [
    "### Observing the Structure"
   ]
  },
  {
   "cell_type": "code",
   "execution_count": 47,
   "metadata": {},
   "outputs": [
    {
     "data": {
      "text/plain": [
       "Incident ID                        int64\n",
       "Offence Code                      object\n",
       "CR Number                          int64\n",
       "Dispatch Date / Time              object\n",
       "NIBRS Code                        object\n",
       "Victims                            int64\n",
       "Crime Name1                       object\n",
       "Crime Name2                       object\n",
       "Crime Name3                       object\n",
       "Police District Name              object\n",
       "Block Address                     object\n",
       "City                              object\n",
       "State                             object\n",
       "Zip Code                         float64\n",
       "Agency                            object\n",
       "Place                             object\n",
       "Sector                            object\n",
       "Beat                              object\n",
       "PRA                               object\n",
       "Address Number                   float64\n",
       "Street Prefix                     object\n",
       "Street Name                       object\n",
       "Street Suffix                     object\n",
       "Street Type                       object\n",
       "Start_Date_Time                   object\n",
       "End_Date_Time                     object\n",
       "Latitude                         float64\n",
       "Longitude                        float64\n",
       "Police District Number            object\n",
       "Location                          object\n",
       "date_new                  datetime64[ns]\n",
       "year                               int64\n",
       "time                              object\n",
       "weekday                            int64\n",
       "dtype: object"
      ]
     },
     "execution_count": 47,
     "metadata": {},
     "output_type": "execute_result"
    }
   ],
   "source": [
    "# observing the datatypes of the dataset\n",
    "crime.dtypes"
   ]
  },
  {
   "cell_type": "markdown",
   "metadata": {},
   "source": [
    "### Summarizing the Dataframe"
   ]
  },
  {
   "cell_type": "code",
   "execution_count": 48,
   "metadata": {},
   "outputs": [
    {
     "name": "stdout",
     "output_type": "stream",
     "text": [
      "<class 'pandas.core.frame.DataFrame'>\n",
      "RangeIndex: 197153 entries, 0 to 197152\n",
      "Data columns (total 34 columns):\n",
      "Incident ID               197153 non-null int64\n",
      "Offence Code              197153 non-null object\n",
      "CR Number                 197153 non-null int64\n",
      "Dispatch Date / Time      166676 non-null object\n",
      "NIBRS Code                197153 non-null object\n",
      "Victims                   197153 non-null int64\n",
      "Crime Name1               197091 non-null object\n",
      "Crime Name2               197091 non-null object\n",
      "Crime Name3               197091 non-null object\n",
      "Police District Name      197153 non-null object\n",
      "Block Address             178644 non-null object\n",
      "City                      196279 non-null object\n",
      "State                     197153 non-null object\n",
      "Zip Code                  193968 non-null float64\n",
      "Agency                    197153 non-null object\n",
      "Place                     197153 non-null object\n",
      "Sector                    197108 non-null object\n",
      "Beat                      197108 non-null object\n",
      "PRA                       197125 non-null object\n",
      "Address Number            178705 non-null float64\n",
      "Street Prefix             8720 non-null object\n",
      "Street Name               197153 non-null object\n",
      "Street Suffix             3810 non-null object\n",
      "Street Type               196853 non-null object\n",
      "Start_Date_Time           197153 non-null object\n",
      "End_Date_Time             94994 non-null object\n",
      "Latitude                  197153 non-null float64\n",
      "Longitude                 197153 non-null float64\n",
      "Police District Number    197153 non-null object\n",
      "Location                  197153 non-null object\n",
      "date_new                  197153 non-null datetime64[ns]\n",
      "year                      197153 non-null int64\n",
      "time                      197153 non-null object\n",
      "weekday                   197153 non-null int64\n",
      "dtypes: datetime64[ns](1), float64(4), int64(5), object(24)\n",
      "memory usage: 51.1+ MB\n",
      "None\n"
     ]
    }
   ],
   "source": [
    "print(crime.info())"
   ]
  },
  {
   "cell_type": "code",
   "execution_count": 49,
   "metadata": {},
   "outputs": [
    {
     "data": {
      "text/html": [
       "<div>\n",
       "<style scoped>\n",
       "    .dataframe tbody tr th:only-of-type {\n",
       "        vertical-align: middle;\n",
       "    }\n",
       "\n",
       "    .dataframe tbody tr th {\n",
       "        vertical-align: top;\n",
       "    }\n",
       "\n",
       "    .dataframe thead th {\n",
       "        text-align: right;\n",
       "    }\n",
       "</style>\n",
       "<table border=\"1\" class=\"dataframe\">\n",
       "  <thead>\n",
       "    <tr style=\"text-align: right;\">\n",
       "      <th></th>\n",
       "      <th>Incident ID</th>\n",
       "      <th>Offence Code</th>\n",
       "      <th>CR Number</th>\n",
       "      <th>Dispatch Date / Time</th>\n",
       "      <th>NIBRS Code</th>\n",
       "      <th>Victims</th>\n",
       "      <th>Crime Name1</th>\n",
       "      <th>Crime Name2</th>\n",
       "      <th>Crime Name3</th>\n",
       "      <th>Police District Name</th>\n",
       "      <th>...</th>\n",
       "      <th>Start_Date_Time</th>\n",
       "      <th>End_Date_Time</th>\n",
       "      <th>Latitude</th>\n",
       "      <th>Longitude</th>\n",
       "      <th>Police District Number</th>\n",
       "      <th>Location</th>\n",
       "      <th>date_new</th>\n",
       "      <th>year</th>\n",
       "      <th>time</th>\n",
       "      <th>weekday</th>\n",
       "    </tr>\n",
       "  </thead>\n",
       "  <tbody>\n",
       "    <tr>\n",
       "      <th>0</th>\n",
       "      <td>201212149</td>\n",
       "      <td>2303</td>\n",
       "      <td>180053890</td>\n",
       "      <td>NaN</td>\n",
       "      <td>23C</td>\n",
       "      <td>1</td>\n",
       "      <td>Crime Against Property</td>\n",
       "      <td>Shoplifting</td>\n",
       "      <td>LARCENY - SHOPLIFTING</td>\n",
       "      <td>GERMANTOWN</td>\n",
       "      <td>...</td>\n",
       "      <td>10/27/2018 09:15:00 PM</td>\n",
       "      <td>NaN</td>\n",
       "      <td>39.198413</td>\n",
       "      <td>-77.244946</td>\n",
       "      <td>5D</td>\n",
       "      <td>(39.1984, -77.2449)</td>\n",
       "      <td>2018-10-27 21:15:00</td>\n",
       "      <td>2018</td>\n",
       "      <td>21:15:00</td>\n",
       "      <td>5</td>\n",
       "    </tr>\n",
       "    <tr>\n",
       "      <th>1</th>\n",
       "      <td>201223224</td>\n",
       "      <td>2303</td>\n",
       "      <td>190002520</td>\n",
       "      <td>01/16/2019 03:51:46 PM</td>\n",
       "      <td>23C</td>\n",
       "      <td>1</td>\n",
       "      <td>Crime Against Property</td>\n",
       "      <td>Shoplifting</td>\n",
       "      <td>LARCENY - SHOPLIFTING</td>\n",
       "      <td>WHEATON</td>\n",
       "      <td>...</td>\n",
       "      <td>01/16/2019 03:51:00 PM</td>\n",
       "      <td>NaN</td>\n",
       "      <td>39.037367</td>\n",
       "      <td>-77.051662</td>\n",
       "      <td>4D</td>\n",
       "      <td>(39.0374, -77.0517)</td>\n",
       "      <td>2019-01-16 15:51:00</td>\n",
       "      <td>2019</td>\n",
       "      <td>15:51:00</td>\n",
       "      <td>2</td>\n",
       "    </tr>\n",
       "    <tr>\n",
       "      <th>2</th>\n",
       "      <td>201224613</td>\n",
       "      <td>2006</td>\n",
       "      <td>190004310</td>\n",
       "      <td>01/27/2019 06:05:56 PM</td>\n",
       "      <td>200</td>\n",
       "      <td>1</td>\n",
       "      <td>Crime Against Property</td>\n",
       "      <td>Arson</td>\n",
       "      <td>ARSON - RESIDENTIAL</td>\n",
       "      <td>MONTGOMERY VILLAGE</td>\n",
       "      <td>...</td>\n",
       "      <td>01/27/2019 06:05:00 PM</td>\n",
       "      <td>NaN</td>\n",
       "      <td>39.146531</td>\n",
       "      <td>-77.184940</td>\n",
       "      <td>6D</td>\n",
       "      <td>(39.1465, -77.1849)</td>\n",
       "      <td>2019-01-27 18:05:00</td>\n",
       "      <td>2019</td>\n",
       "      <td>18:05:00</td>\n",
       "      <td>6</td>\n",
       "    </tr>\n",
       "    <tr>\n",
       "      <th>3</th>\n",
       "      <td>201224656</td>\n",
       "      <td>3562</td>\n",
       "      <td>190003643</td>\n",
       "      <td>01/23/2019 09:45:45 PM</td>\n",
       "      <td>35A</td>\n",
       "      <td>1</td>\n",
       "      <td>Crime Against Society</td>\n",
       "      <td>Drug/Narcotic Violations</td>\n",
       "      <td>DRUGS - MARIJUANA - POSSESS</td>\n",
       "      <td>WHEATON</td>\n",
       "      <td>...</td>\n",
       "      <td>01/23/2019 09:45:00 PM</td>\n",
       "      <td>NaN</td>\n",
       "      <td>39.036571</td>\n",
       "      <td>-77.047454</td>\n",
       "      <td>4D</td>\n",
       "      <td>(39.0366, -77.0475)</td>\n",
       "      <td>2019-01-23 21:45:00</td>\n",
       "      <td>2019</td>\n",
       "      <td>21:45:00</td>\n",
       "      <td>2</td>\n",
       "    </tr>\n",
       "    <tr>\n",
       "      <th>4</th>\n",
       "      <td>201267200</td>\n",
       "      <td>1103</td>\n",
       "      <td>190057412</td>\n",
       "      <td>11/28/2019 06:08:02 AM</td>\n",
       "      <td>11A</td>\n",
       "      <td>1</td>\n",
       "      <td>Crime Against Person</td>\n",
       "      <td>Forcible Rape</td>\n",
       "      <td>RAPE - STRONG-ARM</td>\n",
       "      <td>WHEATON</td>\n",
       "      <td>...</td>\n",
       "      <td>11/28/2019 06:08:00 AM</td>\n",
       "      <td>NaN</td>\n",
       "      <td>39.034255</td>\n",
       "      <td>-77.049163</td>\n",
       "      <td>4D</td>\n",
       "      <td>(39.0343, -77.0492)</td>\n",
       "      <td>2019-11-28 06:08:00</td>\n",
       "      <td>2019</td>\n",
       "      <td>06:08:00</td>\n",
       "      <td>3</td>\n",
       "    </tr>\n",
       "  </tbody>\n",
       "</table>\n",
       "<p>5 rows × 34 columns</p>\n",
       "</div>"
      ],
      "text/plain": [
       "   Incident ID Offence Code  CR Number    Dispatch Date / Time NIBRS Code  \\\n",
       "0    201212149         2303  180053890                     NaN        23C   \n",
       "1    201223224         2303  190002520  01/16/2019 03:51:46 PM        23C   \n",
       "2    201224613         2006  190004310  01/27/2019 06:05:56 PM        200   \n",
       "3    201224656         3562  190003643  01/23/2019 09:45:45 PM        35A   \n",
       "4    201267200         1103  190057412  11/28/2019 06:08:02 AM        11A   \n",
       "\n",
       "   Victims             Crime Name1               Crime Name2  \\\n",
       "0        1  Crime Against Property               Shoplifting   \n",
       "1        1  Crime Against Property               Shoplifting   \n",
       "2        1  Crime Against Property                     Arson   \n",
       "3        1   Crime Against Society  Drug/Narcotic Violations   \n",
       "4        1    Crime Against Person             Forcible Rape   \n",
       "\n",
       "                   Crime Name3 Police District Name  ...  \\\n",
       "0        LARCENY - SHOPLIFTING           GERMANTOWN  ...   \n",
       "1        LARCENY - SHOPLIFTING              WHEATON  ...   \n",
       "2          ARSON - RESIDENTIAL   MONTGOMERY VILLAGE  ...   \n",
       "3  DRUGS - MARIJUANA - POSSESS              WHEATON  ...   \n",
       "4            RAPE - STRONG-ARM              WHEATON  ...   \n",
       "\n",
       "          Start_Date_Time End_Date_Time   Latitude  Longitude  \\\n",
       "0  10/27/2018 09:15:00 PM           NaN  39.198413 -77.244946   \n",
       "1  01/16/2019 03:51:00 PM           NaN  39.037367 -77.051662   \n",
       "2  01/27/2019 06:05:00 PM           NaN  39.146531 -77.184940   \n",
       "3  01/23/2019 09:45:00 PM           NaN  39.036571 -77.047454   \n",
       "4  11/28/2019 06:08:00 AM           NaN  39.034255 -77.049163   \n",
       "\n",
       "  Police District Number             Location            date_new  year  \\\n",
       "0                     5D  (39.1984, -77.2449) 2018-10-27 21:15:00  2018   \n",
       "1                     4D  (39.0374, -77.0517) 2019-01-16 15:51:00  2019   \n",
       "2                     6D  (39.1465, -77.1849) 2019-01-27 18:05:00  2019   \n",
       "3                     4D  (39.0366, -77.0475) 2019-01-23 21:45:00  2019   \n",
       "4                     4D  (39.0343, -77.0492) 2019-11-28 06:08:00  2019   \n",
       "\n",
       "       time  weekday  \n",
       "0  21:15:00        5  \n",
       "1  15:51:00        2  \n",
       "2  18:05:00        6  \n",
       "3  21:45:00        2  \n",
       "4  06:08:00        3  \n",
       "\n",
       "[5 rows x 34 columns]"
      ]
     },
     "execution_count": 49,
     "metadata": {},
     "output_type": "execute_result"
    }
   ],
   "source": [
    "crime.head()"
   ]
  },
  {
   "cell_type": "markdown",
   "metadata": {},
   "source": [
    "## Creating \"crime_look\" <a class=\"anchor\" id=\"section_3_2\"></a>"
   ]
  },
  {
   "cell_type": "code",
   "execution_count": 50,
   "metadata": {},
   "outputs": [],
   "source": [
    "# selecting the columns\n",
    "columns = crime[['Incident ID', 'Victims', 'Crime Name2', 'Police District Name', 'Police District Number', 'year', 'time', 'weekday']]"
   ]
  },
  {
   "cell_type": "code",
   "execution_count": 51,
   "metadata": {},
   "outputs": [],
   "source": [
    "#creating the new dataframe\n",
    "crime_look = columns.copy()"
   ]
  },
  {
   "cell_type": "code",
   "execution_count": 52,
   "metadata": {},
   "outputs": [],
   "source": [
    "# renaming the columns so they match the other dataframe\n",
    "crime_look = crime_look.rename(columns={'Incident ID': 'id', 'Victims': 'victims', 'Crime Name2': 'crime', 'Police District Name': 'district_name', 'Police District Number':'district_number'})"
   ]
  },
  {
   "cell_type": "code",
   "execution_count": 53,
   "metadata": {},
   "outputs": [],
   "source": [
    "# Get names of indexes for which column year is 2016 or 2020\n",
    "delete_years = crime_look[(crime_look['year'] == 2016) | (crime_look['year'] == 2020)].index\n",
    " \n",
    "# Delete these row indexes from dataFrame\n",
    "crime_look.drop(delete_years , inplace=True)"
   ]
  },
  {
   "cell_type": "code",
   "execution_count": 54,
   "metadata": {},
   "outputs": [
    {
     "data": {
      "text/html": [
       "<div>\n",
       "<style scoped>\n",
       "    .dataframe tbody tr th:only-of-type {\n",
       "        vertical-align: middle;\n",
       "    }\n",
       "\n",
       "    .dataframe tbody tr th {\n",
       "        vertical-align: top;\n",
       "    }\n",
       "\n",
       "    .dataframe thead th {\n",
       "        text-align: right;\n",
       "    }\n",
       "</style>\n",
       "<table border=\"1\" class=\"dataframe\">\n",
       "  <thead>\n",
       "    <tr style=\"text-align: right;\">\n",
       "      <th></th>\n",
       "      <th>id</th>\n",
       "      <th>victims</th>\n",
       "      <th>crime</th>\n",
       "      <th>district_name</th>\n",
       "      <th>district_number</th>\n",
       "      <th>year</th>\n",
       "      <th>time</th>\n",
       "      <th>weekday</th>\n",
       "    </tr>\n",
       "  </thead>\n",
       "  <tbody>\n",
       "    <tr>\n",
       "      <th>0</th>\n",
       "      <td>201212149</td>\n",
       "      <td>1</td>\n",
       "      <td>Shoplifting</td>\n",
       "      <td>GERMANTOWN</td>\n",
       "      <td>5D</td>\n",
       "      <td>2018</td>\n",
       "      <td>21:15:00</td>\n",
       "      <td>5</td>\n",
       "    </tr>\n",
       "    <tr>\n",
       "      <th>1</th>\n",
       "      <td>201223224</td>\n",
       "      <td>1</td>\n",
       "      <td>Shoplifting</td>\n",
       "      <td>WHEATON</td>\n",
       "      <td>4D</td>\n",
       "      <td>2019</td>\n",
       "      <td>15:51:00</td>\n",
       "      <td>2</td>\n",
       "    </tr>\n",
       "    <tr>\n",
       "      <th>2</th>\n",
       "      <td>201224613</td>\n",
       "      <td>1</td>\n",
       "      <td>Arson</td>\n",
       "      <td>MONTGOMERY VILLAGE</td>\n",
       "      <td>6D</td>\n",
       "      <td>2019</td>\n",
       "      <td>18:05:00</td>\n",
       "      <td>6</td>\n",
       "    </tr>\n",
       "    <tr>\n",
       "      <th>3</th>\n",
       "      <td>201224656</td>\n",
       "      <td>1</td>\n",
       "      <td>Drug/Narcotic Violations</td>\n",
       "      <td>WHEATON</td>\n",
       "      <td>4D</td>\n",
       "      <td>2019</td>\n",
       "      <td>21:45:00</td>\n",
       "      <td>2</td>\n",
       "    </tr>\n",
       "    <tr>\n",
       "      <th>4</th>\n",
       "      <td>201267200</td>\n",
       "      <td>1</td>\n",
       "      <td>Forcible Rape</td>\n",
       "      <td>WHEATON</td>\n",
       "      <td>4D</td>\n",
       "      <td>2019</td>\n",
       "      <td>06:08:00</td>\n",
       "      <td>3</td>\n",
       "    </tr>\n",
       "  </tbody>\n",
       "</table>\n",
       "</div>"
      ],
      "text/plain": [
       "          id  victims                     crime       district_name  \\\n",
       "0  201212149        1               Shoplifting          GERMANTOWN   \n",
       "1  201223224        1               Shoplifting             WHEATON   \n",
       "2  201224613        1                     Arson  MONTGOMERY VILLAGE   \n",
       "3  201224656        1  Drug/Narcotic Violations             WHEATON   \n",
       "4  201267200        1             Forcible Rape             WHEATON   \n",
       "\n",
       "  district_number  year      time  weekday  \n",
       "0              5D  2018  21:15:00        5  \n",
       "1              4D  2019  15:51:00        2  \n",
       "2              6D  2019  18:05:00        6  \n",
       "3              4D  2019  21:45:00        2  \n",
       "4              4D  2019  06:08:00        3  "
      ]
     },
     "execution_count": 54,
     "metadata": {},
     "output_type": "execute_result"
    }
   ],
   "source": [
    "crime_look.head()"
   ]
  },
  {
   "cell_type": "markdown",
   "metadata": {},
   "source": [
    "## Answering Phase I Questions <a class=\"anchor\" id=\"section_3_3\"></a>"
   ]
  },
  {
   "cell_type": "markdown",
   "metadata": {},
   "source": [
    "### Did the distribution of crime in different districts change from 2017 to 2019? <a class=\"anchor\" id=\"section_3_3_1\"></a>\n",
    "\n",
    "I created the \"crime_look\" dataframe from the original \"crime\" dataset, because I found that the years 2016 and 2020 did not have a full picture of those respective years. I converted datetime to add the year and weekday columns for later analysis.\n",
    "\n",
    "Because this data is categorical in nature, it makes sense to ask about the distribution of crime incidents. I used the seaborn package and represented this data by both district number and district name.\n",
    "\n",
    "<b>Conclusion:</b> district 3D or Silver Spring had the highest number of crime incidents all three years, while 8D or the city of Takoma Park had the lowest number of crime incidents."
   ]
  },
  {
   "cell_type": "code",
   "execution_count": 55,
   "metadata": {},
   "outputs": [
    {
     "data": {
      "text/plain": [
       "Text(0.5, 0.98, 'Histogram of Crime Incidents by Year and District Number')"
      ]
     },
     "execution_count": 55,
     "metadata": {},
     "output_type": "execute_result"
    },
    {
     "data": {
      "image/png": "[encoded data removed]",
      "text/plain": [
       "<Figure size 448.225x360 with 1 Axes>"
      ]
     },
     "metadata": {
      "needs_background": "light"
     },
     "output_type": "display_data"
    }
   ],
   "source": [
    "cplt = sns.catplot(x=\"year\", kind=\"count\", hue=\"district_number\", palette=\"pastel\", data=crime_look)\n",
    "cplt.fig.suptitle('Histogram of Crime Incidents by Year and District Number')"
   ]
  },
  {
   "cell_type": "code",
   "execution_count": 56,
   "metadata": {},
   "outputs": [
    {
     "data": {
      "text/plain": [
       "Text(0.5, 0.98, 'Histogram of Crime Incidents by Year and District')"
      ]
     },
     "execution_count": 56,
     "metadata": {},
     "output_type": "execute_result"
    },
    {
     "data": {
      "image/png": "[encoded data removed]",
      "text/plain": [
       "<Figure size 544.2x360 with 1 Axes>"
      ]
     },
     "metadata": {
      "needs_background": "light"
     },
     "output_type": "display_data"
    }
   ],
   "source": [
    "cplt = sns.catplot(x=\"year\", kind=\"count\", hue=\"district_name\", palette=\"bright\", data=crime_look)\n",
    "cplt.fig.suptitle('Histogram of Crime Incidents by Year and District')"
   ]
  },
  {
   "cell_type": "markdown",
   "metadata": {},
   "source": [
    "### What days of the week had the highest amount of crime? <a class=\"anchor\" id=\"section_3_3_2\"></a>\n",
    "\n",
    "By parsing datetime, I could extract the day of the week from the date the crime incident occurred. I visually represented this with another histogram to examine the distribution.\n",
    "\n",
    "<b>Conclusion</b>: every year, Friday had the highest incidents of crime, while Sunday consistently had the lowest incidents."
   ]
  },
  {
   "cell_type": "code",
   "execution_count": 57,
   "metadata": {},
   "outputs": [
    {
     "data": {
      "text/plain": [
       "Text(0.5, 0.98, 'Histogram of Crime Incidents by Year and Weekday')"
      ]
     },
     "execution_count": 57,
     "metadata": {},
     "output_type": "execute_result"
    },
    {
     "data": {
      "image/png": "[encoded data removed]",
      "text/plain": [
       "<Figure size 414.1x360 with 1 Axes>"
      ]
     },
     "metadata": {
      "needs_background": "light"
     },
     "output_type": "display_data"
    }
   ],
   "source": [
    "cplt2 = sns.catplot(x=\"year\", kind=\"count\", hue=\"weekday\", palette=\"husl\", data=crime_look)\n",
    "cplt2.fig.suptitle('Histogram of Crime Incidents by Year and Weekday')"
   ]
  },
  {
   "cell_type": "markdown",
   "metadata": {},
   "source": [
    "* Monday = 0; Sunday = 6"
   ]
  },
  {
   "cell_type": "markdown",
   "metadata": {},
   "source": [
    "# MCPD Bias Incidents <a class=\"anchor\" id=\"chapter4\"></a>"
   ]
  },
  {
   "cell_type": "markdown",
   "metadata": {},
   "source": [
    "## Reading the Data <a class=\"anchor\" id=\"section_4_1\"></a>"
   ]
  },
  {
   "cell_type": "code",
   "execution_count": 58,
   "metadata": {},
   "outputs": [],
   "source": [
    "# reading the data into a dataframe using pandas\n",
    "dmbias = pd.read_csv(\"DM_bias.csv\")"
   ]
  },
  {
   "cell_type": "code",
   "execution_count": 59,
   "metadata": {},
   "outputs": [],
   "source": [
    "# removing spaces and adding underscores\n",
    "dmbias.columns = dmbias.columns.str.strip().str.lower().str.replace(' ', '_').str.replace('(', '').str.replace(')', '')"
   ]
  },
  {
   "cell_type": "markdown",
   "metadata": {},
   "source": [
    "### Parsing Date Time"
   ]
  },
  {
   "cell_type": "code",
   "execution_count": 60,
   "metadata": {},
   "outputs": [],
   "source": [
    "# creating a new column in the datetime format\n",
    "dmbias['date_new'] = pd.to_datetime(dmbias['incident_date'], format='%m/%d/%Y')"
   ]
  },
  {
   "cell_type": "code",
   "execution_count": 61,
   "metadata": {},
   "outputs": [],
   "source": [
    "dmbias['year'] = dmbias['date_new'].dt.year"
   ]
  },
  {
   "cell_type": "code",
   "execution_count": 62,
   "metadata": {},
   "outputs": [],
   "source": [
    "dmbias['bias_type'] = dmbias['bias_code'].str.split('Anti-').str[-1].str.strip()"
   ]
  },
  {
   "cell_type": "code",
   "execution_count": 63,
   "metadata": {},
   "outputs": [],
   "source": [
    "dmbias['bias_type'] = dmbias['bias_type'].str.split('Anti').str[-1].str.strip()"
   ]
  },
  {
   "cell_type": "code",
   "execution_count": 64,
   "metadata": {},
   "outputs": [
    {
     "data": {
      "text/html": [
       "<div>\n",
       "<style scoped>\n",
       "    .dataframe tbody tr th:only-of-type {\n",
       "        vertical-align: middle;\n",
       "    }\n",
       "\n",
       "    .dataframe tbody tr th {\n",
       "        vertical-align: top;\n",
       "    }\n",
       "\n",
       "    .dataframe thead th {\n",
       "        text-align: right;\n",
       "    }\n",
       "</style>\n",
       "<table border=\"1\" class=\"dataframe\">\n",
       "  <thead>\n",
       "    <tr style=\"text-align: right;\">\n",
       "      <th></th>\n",
       "      <th>incident_date</th>\n",
       "      <th>id</th>\n",
       "      <th>district</th>\n",
       "      <th>bias_code</th>\n",
       "      <th>bias_code2</th>\n",
       "      <th>bias</th>\n",
       "      <th>status</th>\n",
       "      <th>#_of_victims</th>\n",
       "      <th>victim_type</th>\n",
       "      <th>#_of_suspects</th>\n",
       "      <th>#_suspects_less_than_18_years_old</th>\n",
       "      <th>#_suspects_18-35_years_old</th>\n",
       "      <th>#_suspects_36-45_years_old</th>\n",
       "      <th>#_suspects_46-55_years_old</th>\n",
       "      <th>#_suspects_&gt;55_years_old</th>\n",
       "      <th>unknown</th>\n",
       "      <th>date_new</th>\n",
       "      <th>year</th>\n",
       "      <th>bias_type</th>\n",
       "    </tr>\n",
       "  </thead>\n",
       "  <tbody>\n",
       "    <tr>\n",
       "      <th>0</th>\n",
       "      <td>08/11/2017</td>\n",
       "      <td>170524265</td>\n",
       "      <td>1D</td>\n",
       "      <td>21 - Anti-Jewish</td>\n",
       "      <td>NaN</td>\n",
       "      <td>Vandalism</td>\n",
       "      <td>OPEN</td>\n",
       "      <td>NaN</td>\n",
       "      <td>Government</td>\n",
       "      <td>NaN</td>\n",
       "      <td>NaN</td>\n",
       "      <td>NaN</td>\n",
       "      <td>NaN</td>\n",
       "      <td>NaN</td>\n",
       "      <td>NaN</td>\n",
       "      <td>X</td>\n",
       "      <td>2017-08-11</td>\n",
       "      <td>2017</td>\n",
       "      <td>Jewish</td>\n",
       "    </tr>\n",
       "    <tr>\n",
       "      <th>1</th>\n",
       "      <td>03/14/2016</td>\n",
       "      <td>16012552</td>\n",
       "      <td>1D</td>\n",
       "      <td>12 - Anti-Black</td>\n",
       "      <td>NaN</td>\n",
       "      <td>Written Intimidation</td>\n",
       "      <td>NaN</td>\n",
       "      <td>1.0</td>\n",
       "      <td>Individual(s)</td>\n",
       "      <td>1.0</td>\n",
       "      <td>1.0</td>\n",
       "      <td>NaN</td>\n",
       "      <td>NaN</td>\n",
       "      <td>NaN</td>\n",
       "      <td>NaN</td>\n",
       "      <td>NaN</td>\n",
       "      <td>2016-03-14</td>\n",
       "      <td>2016</td>\n",
       "      <td>Black</td>\n",
       "    </tr>\n",
       "    <tr>\n",
       "      <th>2</th>\n",
       "      <td>11/12/2016</td>\n",
       "      <td>16058486</td>\n",
       "      <td>3D</td>\n",
       "      <td>32 - Anti-Hispanic</td>\n",
       "      <td>NaN</td>\n",
       "      <td>Vandalism</td>\n",
       "      <td>OPEN</td>\n",
       "      <td>NaN</td>\n",
       "      <td>Religious Organization</td>\n",
       "      <td>NaN</td>\n",
       "      <td>NaN</td>\n",
       "      <td>NaN</td>\n",
       "      <td>NaN</td>\n",
       "      <td>NaN</td>\n",
       "      <td>NaN</td>\n",
       "      <td>X</td>\n",
       "      <td>2016-11-12</td>\n",
       "      <td>2016</td>\n",
       "      <td>Hispanic</td>\n",
       "    </tr>\n",
       "    <tr>\n",
       "      <th>3</th>\n",
       "      <td>06/26/2016</td>\n",
       "      <td>16032895</td>\n",
       "      <td>3D</td>\n",
       "      <td>12 - Anti-Black</td>\n",
       "      <td>NaN</td>\n",
       "      <td>Vandalism</td>\n",
       "      <td>OPEN</td>\n",
       "      <td>1.0</td>\n",
       "      <td>Individual(s)</td>\n",
       "      <td>NaN</td>\n",
       "      <td>NaN</td>\n",
       "      <td>NaN</td>\n",
       "      <td>NaN</td>\n",
       "      <td>NaN</td>\n",
       "      <td>NaN</td>\n",
       "      <td>X</td>\n",
       "      <td>2016-06-26</td>\n",
       "      <td>2016</td>\n",
       "      <td>Black</td>\n",
       "    </tr>\n",
       "    <tr>\n",
       "      <th>4</th>\n",
       "      <td>02/08/2019</td>\n",
       "      <td>190006274</td>\n",
       "      <td>1D</td>\n",
       "      <td>12 - Anti-Black</td>\n",
       "      <td>NaN</td>\n",
       "      <td>Written Intimidation</td>\n",
       "      <td>NaN</td>\n",
       "      <td>NaN</td>\n",
       "      <td>Individual(s)</td>\n",
       "      <td>4.0</td>\n",
       "      <td>4.0</td>\n",
       "      <td>NaN</td>\n",
       "      <td>NaN</td>\n",
       "      <td>NaN</td>\n",
       "      <td>NaN</td>\n",
       "      <td>NaN</td>\n",
       "      <td>2019-02-08</td>\n",
       "      <td>2019</td>\n",
       "      <td>Black</td>\n",
       "    </tr>\n",
       "  </tbody>\n",
       "</table>\n",
       "</div>"
      ],
      "text/plain": [
       "  incident_date         id district           bias_code bias_code2  \\\n",
       "0    08/11/2017  170524265       1D    21 - Anti-Jewish        NaN   \n",
       "1    03/14/2016   16012552       1D     12 - Anti-Black        NaN   \n",
       "2    11/12/2016   16058486       3D  32 - Anti-Hispanic        NaN   \n",
       "3    06/26/2016   16032895       3D     12 - Anti-Black        NaN   \n",
       "4    02/08/2019  190006274       1D     12 - Anti-Black        NaN   \n",
       "\n",
       "                   bias status  #_of_victims             victim_type  \\\n",
       "0             Vandalism   OPEN           NaN              Government   \n",
       "1  Written Intimidation    NaN           1.0           Individual(s)   \n",
       "2             Vandalism   OPEN           NaN  Religious Organization   \n",
       "3             Vandalism   OPEN           1.0           Individual(s)   \n",
       "4  Written Intimidation    NaN           NaN           Individual(s)   \n",
       "\n",
       "   #_of_suspects  #_suspects_less_than_18_years_old  \\\n",
       "0            NaN                                NaN   \n",
       "1            1.0                                1.0   \n",
       "2            NaN                                NaN   \n",
       "3            NaN                                NaN   \n",
       "4            4.0                                4.0   \n",
       "\n",
       "   #_suspects_18-35_years_old  #_suspects_36-45_years_old  \\\n",
       "0                         NaN                         NaN   \n",
       "1                         NaN                         NaN   \n",
       "2                         NaN                         NaN   \n",
       "3                         NaN                         NaN   \n",
       "4                         NaN                         NaN   \n",
       "\n",
       "   #_suspects_46-55_years_old  #_suspects_>55_years_old unknown   date_new  \\\n",
       "0                         NaN                       NaN       X 2017-08-11   \n",
       "1                         NaN                       NaN     NaN 2016-03-14   \n",
       "2                         NaN                       NaN       X 2016-11-12   \n",
       "3                         NaN                       NaN       X 2016-06-26   \n",
       "4                         NaN                       NaN     NaN 2019-02-08   \n",
       "\n",
       "   year bias_type  \n",
       "0  2017    Jewish  \n",
       "1  2016     Black  \n",
       "2  2016  Hispanic  \n",
       "3  2016     Black  \n",
       "4  2019     Black  "
      ]
     },
     "execution_count": 64,
     "metadata": {},
     "output_type": "execute_result"
    }
   ],
   "source": [
    "dmbias.head()"
   ]
  },
  {
   "cell_type": "markdown",
   "metadata": {},
   "source": [
    "### Observing the Structure"
   ]
  },
  {
   "cell_type": "code",
   "execution_count": 65,
   "metadata": {},
   "outputs": [
    {
     "data": {
      "text/plain": [
       "incident_date                                object\n",
       "id                                            int64\n",
       "district                                     object\n",
       "bias_code                                    object\n",
       "bias_code2                                   object\n",
       "bias                                         object\n",
       "status                                       object\n",
       "#_of_victims                                float64\n",
       "victim_type                                  object\n",
       "#_of_suspects                               float64\n",
       "#_suspects_less_than_18_years_old           float64\n",
       "#_suspects_18-35_years_old                  float64\n",
       "#_suspects_36-45_years_old                  float64\n",
       "#_suspects_46-55_years_old                  float64\n",
       "#_suspects_>55_years_old                    float64\n",
       "unknown                                      object\n",
       "date_new                             datetime64[ns]\n",
       "year                                          int64\n",
       "bias_type                                    object\n",
       "dtype: object"
      ]
     },
     "execution_count": 65,
     "metadata": {},
     "output_type": "execute_result"
    }
   ],
   "source": [
    "# observing the datatypes of the dataset\n",
    "dmbias.dtypes"
   ]
  },
  {
   "cell_type": "markdown",
   "metadata": {},
   "source": [
    "### Summarizing the Dataframe"
   ]
  },
  {
   "cell_type": "code",
   "execution_count": 66,
   "metadata": {},
   "outputs": [
    {
     "name": "stdout",
     "output_type": "stream",
     "text": [
      "<class 'pandas.core.frame.DataFrame'>\n",
      "RangeIndex: 448 entries, 0 to 447\n",
      "Data columns (total 19 columns):\n",
      "incident_date                        448 non-null object\n",
      "id                                   448 non-null int64\n",
      "district                             448 non-null object\n",
      "bias_code                            448 non-null object\n",
      "bias_code2                           37 non-null object\n",
      "bias                                 448 non-null object\n",
      "status                               329 non-null object\n",
      "#_of_victims                         235 non-null float64\n",
      "victim_type                          448 non-null object\n",
      "#_of_suspects                        169 non-null float64\n",
      "#_suspects_less_than_18_years_old    52 non-null float64\n",
      "#_suspects_18-35_years_old           38 non-null float64\n",
      "#_suspects_36-45_years_old           19 non-null float64\n",
      "#_suspects_46-55_years_old           17 non-null float64\n",
      "#_suspects_>55_years_old             21 non-null float64\n",
      "unknown                              296 non-null object\n",
      "date_new                             448 non-null datetime64[ns]\n",
      "year                                 448 non-null int64\n",
      "bias_type                            448 non-null object\n",
      "dtypes: datetime64[ns](1), float64(7), int64(2), object(9)\n",
      "memory usage: 66.6+ KB\n",
      "None\n"
     ]
    },
    {
     "data": {
      "text/plain": [
       "incident_date                                object\n",
       "id                                            int64\n",
       "district                                     object\n",
       "bias_code                                    object\n",
       "bias_code2                                   object\n",
       "bias                                         object\n",
       "status                                       object\n",
       "#_of_victims                                float64\n",
       "victim_type                                  object\n",
       "#_of_suspects                               float64\n",
       "#_suspects_less_than_18_years_old           float64\n",
       "#_suspects_18-35_years_old                  float64\n",
       "#_suspects_36-45_years_old                  float64\n",
       "#_suspects_46-55_years_old                  float64\n",
       "#_suspects_>55_years_old                    float64\n",
       "unknown                                      object\n",
       "date_new                             datetime64[ns]\n",
       "year                                          int64\n",
       "bias_type                                    object\n",
       "dtype: object"
      ]
     },
     "execution_count": 66,
     "metadata": {},
     "output_type": "execute_result"
    }
   ],
   "source": [
    "print(dmbias.info())\n",
    "dmbias.dtypes"
   ]
  },
  {
   "cell_type": "markdown",
   "metadata": {},
   "source": [
    "## Answering Phase I Questions <a class=\"anchor\" id=\"section_4_2\"></a>"
   ]
  },
  {
   "cell_type": "markdown",
   "metadata": {},
   "source": [
    "### What police districts had the highest incidents of biased crime? <a class=\"anchor\" id=\"section_4_2_1\"></a>\n",
    "\n",
    "This dataset is like the crime dataset in that it is full of mostly categorical variables, however, it has even less data to work with. Thus, I approached this question with a histogram.\n",
    "\n",
    "<b>Conclusion: </b> district 2D, or Bethesda had the highest incidents of biased crime, while TPPD or Takoma Park had the lowest. This is very different from the distribution of biased incidents we saw in the overall crime dataset. While Takoma Park had the lowest incidents of crimes in both, Silver Spring had the highest incidents in the overall crime dataset. In the biased crime dataset, Silver Spring seems to be more average."
   ]
  },
  {
   "cell_type": "code",
   "execution_count": 67,
   "metadata": {},
   "outputs": [
    {
     "data": {
      "image/png": "[encoded data removed]",
      "text/plain": [
       "<Figure size 432x288 with 1 Axes>"
      ]
     },
     "metadata": {},
     "output_type": "display_data"
    }
   ],
   "source": [
    "sns.set(style=\"darkgrid\")\n",
    "ax2 = sns.countplot(x=dmbias['district'], data=dmbias)\n",
    "ax2.set_xticklabels(ax2.get_xticklabels(), rotation=45)\n",
    "plt.show()"
   ]
  },
  {
   "cell_type": "markdown",
   "metadata": {},
   "source": [
    "### Which biased type crime occurred most often? <a class=\"anchor\" id=\"section_4_2_2\"></a>\n",
    "The dataset has the variable \"bias_code\" which represents the type of bias of the crime. To approach this quqestion, I plotted this variable on a histogram. I utilized the \"bias_type\" variable I created by parsing the data, so that the messy code number and the word \"Anti\" would not be present. Not only did this look cleaner, but it made the graph more legible.\n",
    "\n",
    "<b>Conclusion:</b> Anti-Jewish bias incidents occurred most frequently, with Anti-Black trailing right behind it. Additionally, Arab had the lowest accounted for type of biased crime in Montgomery county."
   ]
  },
  {
   "cell_type": "code",
   "execution_count": 68,
   "metadata": {},
   "outputs": [
    {
     "data": {
      "image/png": "[encoded data removed]",
      "text/plain": [
       "<Figure size 432x288 with 1 Axes>"
      ]
     },
     "metadata": {},
     "output_type": "display_data"
    }
   ],
   "source": [
    "sns.set(style=\"darkgrid\")\n",
    "ax2 = sns.countplot(x=dmbias['bias_type'], data=dmbias)\n",
    "ax2.set_xticklabels(ax2.get_xticklabels(), rotation=60)\n",
    "plt.show()"
   ]
  },
  {
   "cell_type": "markdown",
   "metadata": {},
   "source": [
    "<b>A quick look by number of victims:</b>"
   ]
  },
  {
   "cell_type": "code",
   "execution_count": 69,
   "metadata": {},
   "outputs": [
    {
     "data": {
      "image/png": "[encoded data removed]",
      "text/plain": [
       "<Figure size 432x288 with 1 Axes>"
      ]
     },
     "metadata": {},
     "output_type": "display_data"
    }
   ],
   "source": [
    "sns.set(style=\"darkgrid\")\n",
    "ax2 = sns.countplot(x=dmbias['#_of_victims'], data=dmbias)\n",
    "ax2.set_xticklabels(ax2.get_xticklabels(), rotation=45)\n",
    "plt.show()"
   ]
  },
  {
   "cell_type": "markdown",
   "metadata": {},
   "source": [
    "# Answering Phase II Questions <a class=\"anchor\" id=\"chapter5\"></a>"
   ]
  },
  {
   "cell_type": "markdown",
   "metadata": {},
   "source": [
    "## How can we compare the crime and bias datasets? <a class=\"anchor\" id=\"section_5_1\"></a>\n",
    "\n",
    "In order to compare the crime and bias datasets, I needed to merge them into one dataframe. I did this by cleaning them such that the columns selected were the same with the same name, and I added the \"dataset\" column to describe which dataframe the row was from.\n",
    "\n",
    "<b>Conclusion:</b> I found that the count of the bias incident dataset was too low to plot alongside the crime dataset. Using Seaborn, I plotted the data in a side-by-side proportional plot across each year. Overall, I do not think many significant conclusions can be drawn by attempting to graph these two datasets alongside one another."
   ]
  },
  {
   "cell_type": "markdown",
   "metadata": {},
   "source": [
    "### Merge the Dataframes"
   ]
  },
  {
   "cell_type": "markdown",
   "metadata": {},
   "source": [
    "### 1. Creating the crime_new dataframe"
   ]
  },
  {
   "cell_type": "code",
   "execution_count": 70,
   "metadata": {},
   "outputs": [],
   "source": [
    "# selecting the columns\n",
    "crime_columns = crime[['Incident ID', 'Police District Number', 'year']]"
   ]
  },
  {
   "cell_type": "code",
   "execution_count": 71,
   "metadata": {},
   "outputs": [],
   "source": [
    "#creating the new dataframe\n",
    "crime_new = crime_columns.copy()"
   ]
  },
  {
   "cell_type": "code",
   "execution_count": 72,
   "metadata": {},
   "outputs": [],
   "source": [
    "# renaming the columns so they match the other dataframe\n",
    "crime_new = crime_new.rename(columns={'Incident ID': 'id','Police District Number':'district'})"
   ]
  },
  {
   "cell_type": "code",
   "execution_count": 73,
   "metadata": {},
   "outputs": [],
   "source": [
    "# inserting the dataset column\n",
    "crime_new.insert(1, 'dataset', 'crime')"
   ]
  },
  {
   "cell_type": "code",
   "execution_count": 74,
   "metadata": {},
   "outputs": [
    {
     "data": {
      "text/html": [
       "<div>\n",
       "<style scoped>\n",
       "    .dataframe tbody tr th:only-of-type {\n",
       "        vertical-align: middle;\n",
       "    }\n",
       "\n",
       "    .dataframe tbody tr th {\n",
       "        vertical-align: top;\n",
       "    }\n",
       "\n",
       "    .dataframe thead th {\n",
       "        text-align: right;\n",
       "    }\n",
       "</style>\n",
       "<table border=\"1\" class=\"dataframe\">\n",
       "  <thead>\n",
       "    <tr style=\"text-align: right;\">\n",
       "      <th></th>\n",
       "      <th>id</th>\n",
       "      <th>dataset</th>\n",
       "      <th>district</th>\n",
       "      <th>year</th>\n",
       "    </tr>\n",
       "  </thead>\n",
       "  <tbody>\n",
       "    <tr>\n",
       "      <th>0</th>\n",
       "      <td>201212149</td>\n",
       "      <td>crime</td>\n",
       "      <td>5D</td>\n",
       "      <td>2018</td>\n",
       "    </tr>\n",
       "    <tr>\n",
       "      <th>1</th>\n",
       "      <td>201223224</td>\n",
       "      <td>crime</td>\n",
       "      <td>4D</td>\n",
       "      <td>2019</td>\n",
       "    </tr>\n",
       "    <tr>\n",
       "      <th>2</th>\n",
       "      <td>201224613</td>\n",
       "      <td>crime</td>\n",
       "      <td>6D</td>\n",
       "      <td>2019</td>\n",
       "    </tr>\n",
       "    <tr>\n",
       "      <th>3</th>\n",
       "      <td>201224656</td>\n",
       "      <td>crime</td>\n",
       "      <td>4D</td>\n",
       "      <td>2019</td>\n",
       "    </tr>\n",
       "    <tr>\n",
       "      <th>4</th>\n",
       "      <td>201267200</td>\n",
       "      <td>crime</td>\n",
       "      <td>4D</td>\n",
       "      <td>2019</td>\n",
       "    </tr>\n",
       "  </tbody>\n",
       "</table>\n",
       "</div>"
      ],
      "text/plain": [
       "          id dataset district  year\n",
       "0  201212149   crime       5D  2018\n",
       "1  201223224   crime       4D  2019\n",
       "2  201224613   crime       6D  2019\n",
       "3  201224656   crime       4D  2019\n",
       "4  201267200   crime       4D  2019"
      ]
     },
     "execution_count": 74,
     "metadata": {},
     "output_type": "execute_result"
    }
   ],
   "source": [
    "crime_new.head()"
   ]
  },
  {
   "cell_type": "markdown",
   "metadata": {},
   "source": [
    "### 2. Creating the bias_new dataframe"
   ]
  },
  {
   "cell_type": "code",
   "execution_count": 75,
   "metadata": {},
   "outputs": [],
   "source": [
    "# selecting the columns\n",
    "bias_columns = dmbias[['id', 'district', 'year']]"
   ]
  },
  {
   "cell_type": "code",
   "execution_count": 76,
   "metadata": {},
   "outputs": [],
   "source": [
    "#creating the new dataframe\n",
    "bias_new = bias_columns.copy()"
   ]
  },
  {
   "cell_type": "code",
   "execution_count": 77,
   "metadata": {},
   "outputs": [],
   "source": [
    "# inserting the dataset column\n",
    "bias_new.insert(1, 'dataset', 'bias')"
   ]
  },
  {
   "cell_type": "code",
   "execution_count": 78,
   "metadata": {},
   "outputs": [
    {
     "data": {
      "text/html": [
       "<div>\n",
       "<style scoped>\n",
       "    .dataframe tbody tr th:only-of-type {\n",
       "        vertical-align: middle;\n",
       "    }\n",
       "\n",
       "    .dataframe tbody tr th {\n",
       "        vertical-align: top;\n",
       "    }\n",
       "\n",
       "    .dataframe thead th {\n",
       "        text-align: right;\n",
       "    }\n",
       "</style>\n",
       "<table border=\"1\" class=\"dataframe\">\n",
       "  <thead>\n",
       "    <tr style=\"text-align: right;\">\n",
       "      <th></th>\n",
       "      <th>id</th>\n",
       "      <th>dataset</th>\n",
       "      <th>district</th>\n",
       "      <th>year</th>\n",
       "    </tr>\n",
       "  </thead>\n",
       "  <tbody>\n",
       "    <tr>\n",
       "      <th>0</th>\n",
       "      <td>170524265</td>\n",
       "      <td>bias</td>\n",
       "      <td>1D</td>\n",
       "      <td>2017</td>\n",
       "    </tr>\n",
       "    <tr>\n",
       "      <th>1</th>\n",
       "      <td>16012552</td>\n",
       "      <td>bias</td>\n",
       "      <td>1D</td>\n",
       "      <td>2016</td>\n",
       "    </tr>\n",
       "    <tr>\n",
       "      <th>2</th>\n",
       "      <td>16058486</td>\n",
       "      <td>bias</td>\n",
       "      <td>3D</td>\n",
       "      <td>2016</td>\n",
       "    </tr>\n",
       "    <tr>\n",
       "      <th>3</th>\n",
       "      <td>16032895</td>\n",
       "      <td>bias</td>\n",
       "      <td>3D</td>\n",
       "      <td>2016</td>\n",
       "    </tr>\n",
       "    <tr>\n",
       "      <th>4</th>\n",
       "      <td>190006274</td>\n",
       "      <td>bias</td>\n",
       "      <td>1D</td>\n",
       "      <td>2019</td>\n",
       "    </tr>\n",
       "  </tbody>\n",
       "</table>\n",
       "</div>"
      ],
      "text/plain": [
       "          id dataset district  year\n",
       "0  170524265    bias       1D  2017\n",
       "1   16012552    bias       1D  2016\n",
       "2   16058486    bias       3D  2016\n",
       "3   16032895    bias       3D  2016\n",
       "4  190006274    bias       1D  2019"
      ]
     },
     "execution_count": 78,
     "metadata": {},
     "output_type": "execute_result"
    }
   ],
   "source": [
    "bias_new.head()"
   ]
  },
  {
   "cell_type": "markdown",
   "metadata": {},
   "source": [
    "### 3. Merging the dataframes"
   ]
  },
  {
   "cell_type": "code",
   "execution_count": 79,
   "metadata": {},
   "outputs": [],
   "source": [
    "full_crime = pd.concat([crime_new, bias_new])"
   ]
  },
  {
   "cell_type": "code",
   "execution_count": 80,
   "metadata": {},
   "outputs": [
    {
     "data": {
      "text/html": [
       "<div>\n",
       "<style scoped>\n",
       "    .dataframe tbody tr th:only-of-type {\n",
       "        vertical-align: middle;\n",
       "    }\n",
       "\n",
       "    .dataframe tbody tr th {\n",
       "        vertical-align: top;\n",
       "    }\n",
       "\n",
       "    .dataframe thead th {\n",
       "        text-align: right;\n",
       "    }\n",
       "</style>\n",
       "<table border=\"1\" class=\"dataframe\">\n",
       "  <thead>\n",
       "    <tr style=\"text-align: right;\">\n",
       "      <th></th>\n",
       "      <th>id</th>\n",
       "      <th>dataset</th>\n",
       "      <th>district</th>\n",
       "      <th>year</th>\n",
       "    </tr>\n",
       "  </thead>\n",
       "  <tbody>\n",
       "    <tr>\n",
       "      <th>0</th>\n",
       "      <td>201212149</td>\n",
       "      <td>crime</td>\n",
       "      <td>5D</td>\n",
       "      <td>2018</td>\n",
       "    </tr>\n",
       "    <tr>\n",
       "      <th>1</th>\n",
       "      <td>201223224</td>\n",
       "      <td>crime</td>\n",
       "      <td>4D</td>\n",
       "      <td>2019</td>\n",
       "    </tr>\n",
       "    <tr>\n",
       "      <th>2</th>\n",
       "      <td>201224613</td>\n",
       "      <td>crime</td>\n",
       "      <td>6D</td>\n",
       "      <td>2019</td>\n",
       "    </tr>\n",
       "    <tr>\n",
       "      <th>3</th>\n",
       "      <td>201224656</td>\n",
       "      <td>crime</td>\n",
       "      <td>4D</td>\n",
       "      <td>2019</td>\n",
       "    </tr>\n",
       "    <tr>\n",
       "      <th>4</th>\n",
       "      <td>201267200</td>\n",
       "      <td>crime</td>\n",
       "      <td>4D</td>\n",
       "      <td>2019</td>\n",
       "    </tr>\n",
       "  </tbody>\n",
       "</table>\n",
       "</div>"
      ],
      "text/plain": [
       "          id dataset district  year\n",
       "0  201212149   crime       5D  2018\n",
       "1  201223224   crime       4D  2019\n",
       "2  201224613   crime       6D  2019\n",
       "3  201224656   crime       4D  2019\n",
       "4  201267200   crime       4D  2019"
      ]
     },
     "execution_count": 80,
     "metadata": {},
     "output_type": "execute_result"
    }
   ],
   "source": [
    "full_crime.head()"
   ]
  },
  {
   "cell_type": "code",
   "execution_count": 81,
   "metadata": {},
   "outputs": [
    {
     "data": {
      "text/html": [
       "<div>\n",
       "<style scoped>\n",
       "    .dataframe tbody tr th:only-of-type {\n",
       "        vertical-align: middle;\n",
       "    }\n",
       "\n",
       "    .dataframe tbody tr th {\n",
       "        vertical-align: top;\n",
       "    }\n",
       "\n",
       "    .dataframe thead th {\n",
       "        text-align: right;\n",
       "    }\n",
       "</style>\n",
       "<table border=\"1\" class=\"dataframe\">\n",
       "  <thead>\n",
       "    <tr style=\"text-align: right;\">\n",
       "      <th></th>\n",
       "      <th>id</th>\n",
       "      <th>dataset</th>\n",
       "      <th>district</th>\n",
       "      <th>year</th>\n",
       "    </tr>\n",
       "  </thead>\n",
       "  <tbody>\n",
       "    <tr>\n",
       "      <th>443</th>\n",
       "      <td>190058610</td>\n",
       "      <td>bias</td>\n",
       "      <td>5D</td>\n",
       "      <td>2019</td>\n",
       "    </tr>\n",
       "    <tr>\n",
       "      <th>444</th>\n",
       "      <td>16007812</td>\n",
       "      <td>bias</td>\n",
       "      <td>4D</td>\n",
       "      <td>2016</td>\n",
       "    </tr>\n",
       "    <tr>\n",
       "      <th>445</th>\n",
       "      <td>190053319</td>\n",
       "      <td>bias</td>\n",
       "      <td>RCPD</td>\n",
       "      <td>2019</td>\n",
       "    </tr>\n",
       "    <tr>\n",
       "      <th>446</th>\n",
       "      <td>16059010</td>\n",
       "      <td>bias</td>\n",
       "      <td>1D</td>\n",
       "      <td>2016</td>\n",
       "    </tr>\n",
       "    <tr>\n",
       "      <th>447</th>\n",
       "      <td>190016883</td>\n",
       "      <td>bias</td>\n",
       "      <td>4D</td>\n",
       "      <td>2019</td>\n",
       "    </tr>\n",
       "  </tbody>\n",
       "</table>\n",
       "</div>"
      ],
      "text/plain": [
       "            id dataset district  year\n",
       "443  190058610    bias       5D  2019\n",
       "444   16007812    bias       4D  2016\n",
       "445  190053319    bias     RCPD  2019\n",
       "446   16059010    bias       1D  2016\n",
       "447  190016883    bias       4D  2019"
      ]
     },
     "execution_count": 81,
     "metadata": {},
     "output_type": "execute_result"
    }
   ],
   "source": [
    "full_crime.tail()"
   ]
  },
  {
   "cell_type": "code",
   "execution_count": 82,
   "metadata": {},
   "outputs": [
    {
     "name": "stdout",
     "output_type": "stream",
     "text": [
      "<class 'pandas.core.frame.DataFrame'>\n",
      "Int64Index: 197601 entries, 0 to 447\n",
      "Data columns (total 4 columns):\n",
      "id          197601 non-null int64\n",
      "dataset     197601 non-null object\n",
      "district    197601 non-null object\n",
      "year        197601 non-null int64\n",
      "dtypes: int64(2), object(2)\n",
      "memory usage: 7.5+ MB\n"
     ]
    }
   ],
   "source": [
    "full_crime.info()"
   ]
  },
  {
   "cell_type": "markdown",
   "metadata": {},
   "source": [
    "### 4. Dropping duplicates"
   ]
  },
  {
   "cell_type": "code",
   "execution_count": 83,
   "metadata": {},
   "outputs": [
    {
     "data": {
      "text/plain": [
       "16415"
      ]
     },
     "execution_count": 83,
     "metadata": {},
     "output_type": "execute_result"
    }
   ],
   "source": [
    "# counting data with the same id\n",
    "len(full_crime['id'])-len(full_crime['id'].drop_duplicates())"
   ]
  },
  {
   "cell_type": "code",
   "execution_count": 84,
   "metadata": {},
   "outputs": [
    {
     "data": {
      "text/plain": [
       "181186"
      ]
     },
     "execution_count": 84,
     "metadata": {},
     "output_type": "execute_result"
    }
   ],
   "source": [
    "197601-16415"
   ]
  },
  {
   "cell_type": "code",
   "execution_count": 85,
   "metadata": {},
   "outputs": [],
   "source": [
    "full_crime2=full_crime.drop_duplicates(subset=['id','dataset'])"
   ]
  },
  {
   "cell_type": "code",
   "execution_count": 86,
   "metadata": {},
   "outputs": [
    {
     "name": "stdout",
     "output_type": "stream",
     "text": [
      "<class 'pandas.core.frame.DataFrame'>\n",
      "Int64Index: 181186 entries, 0 to 447\n",
      "Data columns (total 4 columns):\n",
      "id          181186 non-null int64\n",
      "dataset     181186 non-null object\n",
      "district    181186 non-null object\n",
      "year        181186 non-null int64\n",
      "dtypes: int64(2), object(2)\n",
      "memory usage: 6.9+ MB\n"
     ]
    }
   ],
   "source": [
    "full_crime2.info()"
   ]
  },
  {
   "cell_type": "code",
   "execution_count": 87,
   "metadata": {},
   "outputs": [
    {
     "data": {
      "text/html": [
       "<div>\n",
       "<style scoped>\n",
       "    .dataframe tbody tr th:only-of-type {\n",
       "        vertical-align: middle;\n",
       "    }\n",
       "\n",
       "    .dataframe tbody tr th {\n",
       "        vertical-align: top;\n",
       "    }\n",
       "\n",
       "    .dataframe thead th {\n",
       "        text-align: right;\n",
       "    }\n",
       "</style>\n",
       "<table border=\"1\" class=\"dataframe\">\n",
       "  <thead>\n",
       "    <tr style=\"text-align: right;\">\n",
       "      <th></th>\n",
       "      <th>id</th>\n",
       "      <th>dataset</th>\n",
       "      <th>district</th>\n",
       "      <th>year</th>\n",
       "    </tr>\n",
       "  </thead>\n",
       "  <tbody>\n",
       "    <tr>\n",
       "      <th>0</th>\n",
       "      <td>201212149</td>\n",
       "      <td>crime</td>\n",
       "      <td>5D</td>\n",
       "      <td>2018</td>\n",
       "    </tr>\n",
       "    <tr>\n",
       "      <th>1</th>\n",
       "      <td>201223224</td>\n",
       "      <td>crime</td>\n",
       "      <td>4D</td>\n",
       "      <td>2019</td>\n",
       "    </tr>\n",
       "    <tr>\n",
       "      <th>2</th>\n",
       "      <td>201224613</td>\n",
       "      <td>crime</td>\n",
       "      <td>6D</td>\n",
       "      <td>2019</td>\n",
       "    </tr>\n",
       "    <tr>\n",
       "      <th>3</th>\n",
       "      <td>201224656</td>\n",
       "      <td>crime</td>\n",
       "      <td>4D</td>\n",
       "      <td>2019</td>\n",
       "    </tr>\n",
       "    <tr>\n",
       "      <th>4</th>\n",
       "      <td>201267200</td>\n",
       "      <td>crime</td>\n",
       "      <td>4D</td>\n",
       "      <td>2019</td>\n",
       "    </tr>\n",
       "  </tbody>\n",
       "</table>\n",
       "</div>"
      ],
      "text/plain": [
       "          id dataset district  year\n",
       "0  201212149   crime       5D  2018\n",
       "1  201223224   crime       4D  2019\n",
       "2  201224613   crime       6D  2019\n",
       "3  201224656   crime       4D  2019\n",
       "4  201267200   crime       4D  2019"
      ]
     },
     "execution_count": 87,
     "metadata": {},
     "output_type": "execute_result"
    }
   ],
   "source": [
    "full_crime2.head()"
   ]
  },
  {
   "cell_type": "code",
   "execution_count": 88,
   "metadata": {},
   "outputs": [
    {
     "data": {
      "text/html": [
       "<div>\n",
       "<style scoped>\n",
       "    .dataframe tbody tr th:only-of-type {\n",
       "        vertical-align: middle;\n",
       "    }\n",
       "\n",
       "    .dataframe tbody tr th {\n",
       "        vertical-align: top;\n",
       "    }\n",
       "\n",
       "    .dataframe thead th {\n",
       "        text-align: right;\n",
       "    }\n",
       "</style>\n",
       "<table border=\"1\" class=\"dataframe\">\n",
       "  <thead>\n",
       "    <tr style=\"text-align: right;\">\n",
       "      <th></th>\n",
       "      <th>id</th>\n",
       "      <th>dataset</th>\n",
       "      <th>district</th>\n",
       "      <th>year</th>\n",
       "    </tr>\n",
       "  </thead>\n",
       "  <tbody>\n",
       "    <tr>\n",
       "      <th>443</th>\n",
       "      <td>190058610</td>\n",
       "      <td>bias</td>\n",
       "      <td>5D</td>\n",
       "      <td>2019</td>\n",
       "    </tr>\n",
       "    <tr>\n",
       "      <th>444</th>\n",
       "      <td>16007812</td>\n",
       "      <td>bias</td>\n",
       "      <td>4D</td>\n",
       "      <td>2016</td>\n",
       "    </tr>\n",
       "    <tr>\n",
       "      <th>445</th>\n",
       "      <td>190053319</td>\n",
       "      <td>bias</td>\n",
       "      <td>RCPD</td>\n",
       "      <td>2019</td>\n",
       "    </tr>\n",
       "    <tr>\n",
       "      <th>446</th>\n",
       "      <td>16059010</td>\n",
       "      <td>bias</td>\n",
       "      <td>1D</td>\n",
       "      <td>2016</td>\n",
       "    </tr>\n",
       "    <tr>\n",
       "      <th>447</th>\n",
       "      <td>190016883</td>\n",
       "      <td>bias</td>\n",
       "      <td>4D</td>\n",
       "      <td>2019</td>\n",
       "    </tr>\n",
       "  </tbody>\n",
       "</table>\n",
       "</div>"
      ],
      "text/plain": [
       "            id dataset district  year\n",
       "443  190058610    bias       5D  2019\n",
       "444   16007812    bias       4D  2016\n",
       "445  190053319    bias     RCPD  2019\n",
       "446   16059010    bias       1D  2016\n",
       "447  190016883    bias       4D  2019"
      ]
     },
     "execution_count": 88,
     "metadata": {},
     "output_type": "execute_result"
    }
   ],
   "source": [
    "full_crime2.tail()"
   ]
  },
  {
   "cell_type": "markdown",
   "metadata": {},
   "source": [
    "### 5. Dropping 2016 and 2020"
   ]
  },
  {
   "cell_type": "code",
   "execution_count": 89,
   "metadata": {},
   "outputs": [
    {
     "name": "stderr",
     "output_type": "stream",
     "text": [
      "C:\\Users\\murrayl\\AppData\\Local\\Continuum\\anaconda3\\lib\\site-packages\\pandas\\core\\frame.py:3940: SettingWithCopyWarning: \n",
      "A value is trying to be set on a copy of a slice from a DataFrame\n",
      "\n",
      "See the caveats in the documentation: http://pandas.pydata.org/pandas-docs/stable/indexing.html#indexing-view-versus-copy\n",
      "  errors=errors)\n"
     ]
    }
   ],
   "source": [
    "# Get names of indexes for which column year is 2016 or 2020\n",
    "delete_years2 = full_crime2[(full_crime2['year'] == 2016) | (full_crime2['year'] == 2020)].index\n",
    " \n",
    "# Delete these row indexes from dataFrame\n",
    "full_crime2.drop(delete_years2, inplace=True)"
   ]
  },
  {
   "cell_type": "markdown",
   "metadata": {},
   "source": [
    "### Trying to plot them together:\n",
    "* We do not have enough values in the bias dataset to make any visual comparison."
   ]
  },
  {
   "cell_type": "code",
   "execution_count": 90,
   "metadata": {},
   "outputs": [
    {
     "data": {
      "text/plain": [
       "Text(0.5, 0.98, 'Histogram of Crime Incidents by Dataset Type and District')"
      ]
     },
     "execution_count": 90,
     "metadata": {},
     "output_type": "execute_result"
    },
    {
     "data": {
      "image/png": "[encoded data removed]",
      "text/plain": [
       "<Figure size 426.725x360 with 1 Axes>"
      ]
     },
     "metadata": {},
     "output_type": "display_data"
    }
   ],
   "source": [
    "cplt = sns.catplot(x=\"year\", kind=\"count\", hue=\"dataset\", data=full_crime2)\n",
    "cplt.fig.suptitle('Histogram of Crime Incidents by Dataset Type and District')"
   ]
  },
  {
   "cell_type": "markdown",
   "metadata": {},
   "source": [
    "## Plotting proportion as a solution <a class=\"anchor\" id=\"section_5_1_1\"></a>"
   ]
  },
  {
   "cell_type": "code",
   "execution_count": 91,
   "metadata": {},
   "outputs": [
    {
     "data": {
      "text/plain": [
       "<matplotlib.axes._subplots.AxesSubplot at 0x1820c647ef0>"
      ]
     },
     "execution_count": 91,
     "metadata": {},
     "output_type": "execute_result"
    },
    {
     "data": {
      "image/png": "[encoded data removed]",
      "text/plain": [
       "<Figure size 432x288 with 2 Axes>"
      ]
     },
     "metadata": {},
     "output_type": "display_data"
    }
   ],
   "source": [
    "df = full_crime2\n",
    "x, y, hue = \"year\", \"prop\", \"dataset\"\n",
    "hue_order = [\"crime\", \"bias\"]\n",
    "\n",
    "f, axes = plt.subplots(1, 2)\n",
    "sns.countplot(x=x, hue=hue, data=df, ax=axes[0])\n",
    "\n",
    "prop_df = (df[x]\n",
    "           .groupby(df[hue])\n",
    "           .value_counts(normalize=True)\n",
    "           .rename(y)\n",
    "           .reset_index())\n",
    "\n",
    "sns.barplot(x=x, y=y, hue=hue, data=prop_df, ax=axes[1])"
   ]
  },
  {
   "cell_type": "code",
   "execution_count": 92,
   "metadata": {},
   "outputs": [
    {
     "data": {
      "text/plain": [
       "<matplotlib.axes._subplots.AxesSubplot at 0x1820c582c88>"
      ]
     },
     "execution_count": 92,
     "metadata": {},
     "output_type": "execute_result"
    },
    {
     "data": {
      "image/png": "[encoded data removed]",
      "text/plain": [
       "<Figure size 432x288 with 1 Axes>"
      ]
     },
     "metadata": {},
     "output_type": "display_data"
    }
   ],
   "source": [
    "df = full_crime2\n",
    "x, y, hue = \"year\", \"prop\", \"dataset\"\n",
    "hue_order = [\"crime\", \"bias\"]\n",
    "\n",
    "(df[x]\n",
    " .groupby(df[hue])\n",
    " .value_counts(normalize=True)\n",
    " .rename(y)\n",
    " .reset_index()\n",
    " .pipe((sns.barplot, \"data\"), x=x, y=y, hue=hue))"
   ]
  },
  {
   "cell_type": "markdown",
   "metadata": {},
   "source": [
    "# Can we accurately predict police employees that are male with a ML model? <a class=\"anchor\" id=\"section_5_2\"></a>\n",
    "Logistic regression models are utilized to predict binary classes. In this case, we are computing the probability that Montgomery County police employees are male. In order to create this model, I needed to create the \"police_new\" dataframe. To run the logistic regression, I needed to recode categorical variables such as Assignment Category and Gender as binary numbers. I also created the new variable,  \"Years Total\", to represent the number of years the employee worked at the Montgomery County police department.\n",
    "\n",
    "I utilized the Gender, Assignment Category, Current Annual Salary, Over Time Pay, and Years Total as parameters. I split the data into train and test data, trained the model, and checked the accuracy of the model for predictions.\n",
    "\n",
    "<b>Conclusion:</b> The accuracy of the model was 72%, which is relatively high. Precision was 72%, which indicates a low false positive rate; in other words, of all employees classified as male, 72% are male. The recall value indicates that the model can identify employees that are male in the test set 94% of time. However, observing the Receiver Operating Characteristic (ROC) Curve, it showed an AUC score of 0.596 indicating the model is a relatively worthless classifier."
   ]
  },
  {
   "cell_type": "markdown",
   "metadata": {},
   "source": [
    "## Building a Logistic Regression Model <a class=\"anchor\" id=\"section_5_2_1\"></a>"
   ]
  },
  {
   "cell_type": "markdown",
   "metadata": {},
   "source": [
    "### 1. Clean the data"
   ]
  },
  {
   "cell_type": "markdown",
   "metadata": {},
   "source": [
    "#### Creating the \"police_new\" dataframe"
   ]
  },
  {
   "cell_type": "code",
   "execution_count": 93,
   "metadata": {},
   "outputs": [],
   "source": [
    "# selecting the columns\n",
    "police_columns = mcpolice[['Gender', 'Assignment Category', 'Current Annual Salary', 'Overtime Pay', 'Date First Hired', 'Year']]"
   ]
  },
  {
   "cell_type": "code",
   "execution_count": 94,
   "metadata": {},
   "outputs": [],
   "source": [
    "# creating the new dataframe\n",
    "police_new = police_columns.copy()"
   ]
  },
  {
   "cell_type": "code",
   "execution_count": 95,
   "metadata": {},
   "outputs": [],
   "source": [
    "# creating a new column in the datetime format\n",
    "police_new['Year Hired'] = pd.to_datetime(police_new['Date First Hired'], format='%m/%d/%Y')"
   ]
  },
  {
   "cell_type": "code",
   "execution_count": 96,
   "metadata": {},
   "outputs": [],
   "source": [
    "# creating the year hired column\n",
    "police_new['Year Hired'] = police_new['Year Hired'].dt.year"
   ]
  },
  {
   "cell_type": "code",
   "execution_count": 97,
   "metadata": {},
   "outputs": [],
   "source": [
    "police_new['Years Total'] = police_new['Year'].astype(int) - police_new['Year Hired'].astype(int)"
   ]
  },
  {
   "cell_type": "markdown",
   "metadata": {},
   "source": [
    "#### Encoding Assignment Category and Gender"
   ]
  },
  {
   "cell_type": "code",
   "execution_count": 98,
   "metadata": {},
   "outputs": [],
   "source": [
    "police_final = police_new.copy()\n",
    "police_final['Gender'] = np.where(police_final['Gender'].str.contains('M'), 1, 0)"
   ]
  },
  {
   "cell_type": "code",
   "execution_count": 99,
   "metadata": {},
   "outputs": [],
   "source": [
    "replace_map = {'Assignment Category': {'Parttime-Regular': 0, 'Fulltime-Regular': 1}}\n",
    "police_final.replace(replace_map, inplace=True)"
   ]
  },
  {
   "cell_type": "markdown",
   "metadata": {},
   "source": [
    "#### Observing the final \"police_final\" dataframe"
   ]
  },
  {
   "cell_type": "code",
   "execution_count": 100,
   "metadata": {},
   "outputs": [
    {
     "data": {
      "text/html": [
       "<div>\n",
       "<style scoped>\n",
       "    .dataframe tbody tr th:only-of-type {\n",
       "        vertical-align: middle;\n",
       "    }\n",
       "\n",
       "    .dataframe tbody tr th {\n",
       "        vertical-align: top;\n",
       "    }\n",
       "\n",
       "    .dataframe thead th {\n",
       "        text-align: right;\n",
       "    }\n",
       "</style>\n",
       "<table border=\"1\" class=\"dataframe\">\n",
       "  <thead>\n",
       "    <tr style=\"text-align: right;\">\n",
       "      <th></th>\n",
       "      <th>Gender</th>\n",
       "      <th>Assignment Category</th>\n",
       "      <th>Current Annual Salary</th>\n",
       "      <th>Overtime Pay</th>\n",
       "      <th>Years Total</th>\n",
       "    </tr>\n",
       "  </thead>\n",
       "  <tbody>\n",
       "    <tr>\n",
       "      <th>0</th>\n",
       "      <td>0</td>\n",
       "      <td>1</td>\n",
       "      <td>67527.83</td>\n",
       "      <td>1202.75</td>\n",
       "      <td>28</td>\n",
       "    </tr>\n",
       "    <tr>\n",
       "      <th>1</th>\n",
       "      <td>1</td>\n",
       "      <td>1</td>\n",
       "      <td>95007.83</td>\n",
       "      <td>6519.66</td>\n",
       "      <td>26</td>\n",
       "    </tr>\n",
       "    <tr>\n",
       "      <th>5</th>\n",
       "      <td>1</td>\n",
       "      <td>1</td>\n",
       "      <td>63056.51</td>\n",
       "      <td>18045.28</td>\n",
       "      <td>7</td>\n",
       "    </tr>\n",
       "    <tr>\n",
       "      <th>8</th>\n",
       "      <td>0</td>\n",
       "      <td>1</td>\n",
       "      <td>43410.92</td>\n",
       "      <td>20.97</td>\n",
       "      <td>7</td>\n",
       "    </tr>\n",
       "    <tr>\n",
       "      <th>18</th>\n",
       "      <td>0</td>\n",
       "      <td>0</td>\n",
       "      <td>19821.46</td>\n",
       "      <td>42.89</td>\n",
       "      <td>10</td>\n",
       "    </tr>\n",
       "  </tbody>\n",
       "</table>\n",
       "</div>"
      ],
      "text/plain": [
       "    Gender  Assignment Category  Current Annual Salary  Overtime Pay  \\\n",
       "0        0                    1               67527.83       1202.75   \n",
       "1        1                    1               95007.83       6519.66   \n",
       "5        1                    1               63056.51      18045.28   \n",
       "8        0                    1               43410.92         20.97   \n",
       "18       0                    0               19821.46         42.89   \n",
       "\n",
       "    Years Total  \n",
       "0            28  \n",
       "1            26  \n",
       "5             7  \n",
       "8             7  \n",
       "18           10  "
      ]
     },
     "execution_count": 100,
     "metadata": {},
     "output_type": "execute_result"
    }
   ],
   "source": [
    "police_final.drop(['Date First Hired', 'Year', 'Year Hired'], axis=1, inplace=True)\n",
    "police_final.head()"
   ]
  },
  {
   "cell_type": "code",
   "execution_count": 101,
   "metadata": {},
   "outputs": [
    {
     "name": "stdout",
     "output_type": "stream",
     "text": [
      "percentage of male is 62.88191140712549\n",
      "percentage of female 37.11808859287451\n"
     ]
    }
   ],
   "source": [
    "count_male = len(police_final[police_final['Gender']==1])\n",
    "count_female = len(police_final[police_final['Gender']==0])\n",
    "pct_of_male = count_male/(count_male+count_female)\n",
    "print(\"percentage of male is\", pct_of_male*100)\n",
    "pct_of_female = count_female/(count_male+count_female)\n",
    "print(\"percentage of female\", pct_of_female*100)"
   ]
  },
  {
   "cell_type": "markdown",
   "metadata": {},
   "source": [
    "* Classes are imbalanced\n",
    "* Ratio of male to female instances is 62:37"
   ]
  },
  {
   "cell_type": "code",
   "execution_count": 102,
   "metadata": {},
   "outputs": [
    {
     "data": {
      "text/html": [
       "<div>\n",
       "<style scoped>\n",
       "    .dataframe tbody tr th:only-of-type {\n",
       "        vertical-align: middle;\n",
       "    }\n",
       "\n",
       "    .dataframe tbody tr th {\n",
       "        vertical-align: top;\n",
       "    }\n",
       "\n",
       "    .dataframe thead th {\n",
       "        text-align: right;\n",
       "    }\n",
       "</style>\n",
       "<table border=\"1\" class=\"dataframe\">\n",
       "  <thead>\n",
       "    <tr style=\"text-align: right;\">\n",
       "      <th></th>\n",
       "      <th>Assignment Category</th>\n",
       "      <th>Current Annual Salary</th>\n",
       "      <th>Overtime Pay</th>\n",
       "      <th>Years Total</th>\n",
       "    </tr>\n",
       "    <tr>\n",
       "      <th>Gender</th>\n",
       "      <th></th>\n",
       "      <th></th>\n",
       "      <th></th>\n",
       "      <th></th>\n",
       "    </tr>\n",
       "  </thead>\n",
       "  <tbody>\n",
       "    <tr>\n",
       "      <th>0</th>\n",
       "      <td>0.781544</td>\n",
       "      <td>60146.000578</td>\n",
       "      <td>4887.532866</td>\n",
       "      <td>11.881515</td>\n",
       "    </tr>\n",
       "    <tr>\n",
       "      <th>1</th>\n",
       "      <td>0.980834</td>\n",
       "      <td>79586.957213</td>\n",
       "      <td>8852.955241</td>\n",
       "      <td>12.682078</td>\n",
       "    </tr>\n",
       "  </tbody>\n",
       "</table>\n",
       "</div>"
      ],
      "text/plain": [
       "        Assignment Category  Current Annual Salary  Overtime Pay  Years Total\n",
       "Gender                                                                       \n",
       "0                  0.781544           60146.000578   4887.532866    11.881515\n",
       "1                  0.980834           79586.957213   8852.955241    12.682078"
      ]
     },
     "execution_count": 102,
     "metadata": {},
     "output_type": "execute_result"
    }
   ],
   "source": [
    "police_final.groupby('Gender').mean()"
   ]
  },
  {
   "cell_type": "markdown",
   "metadata": {},
   "source": [
    "#### Ensuring All Nulls are Gone"
   ]
  },
  {
   "cell_type": "code",
   "execution_count": 103,
   "metadata": {},
   "outputs": [
    {
     "name": "stdout",
     "output_type": "stream",
     "text": [
      "<class 'pandas.core.frame.DataFrame'>\n",
      "Int64Index: 9459 entries, 0 to 10067\n",
      "Data columns (total 5 columns):\n",
      "Gender                   9459 non-null int32\n",
      "Assignment Category      9459 non-null int64\n",
      "Current Annual Salary    9459 non-null float64\n",
      "Overtime Pay             8987 non-null float64\n",
      "Years Total              9459 non-null int32\n",
      "dtypes: float64(2), int32(2), int64(1)\n",
      "memory usage: 369.5 KB\n",
      "None\n"
     ]
    }
   ],
   "source": [
    "print(police_final.info(null_counts=True))"
   ]
  },
  {
   "cell_type": "code",
   "execution_count": 104,
   "metadata": {},
   "outputs": [
    {
     "data": {
      "text/plain": [
       "Gender                   False\n",
       "Assignment Category      False\n",
       "Current Annual Salary    False\n",
       "Overtime Pay             False\n",
       "Years Total              False\n",
       "dtype: bool"
      ]
     },
     "execution_count": 104,
     "metadata": {},
     "output_type": "execute_result"
    }
   ],
   "source": [
    "police_final = police_final.dropna(axis=0, how='any')\n",
    "pd.isnull(police_final).sum() > 0"
   ]
  },
  {
   "cell_type": "markdown",
   "metadata": {},
   "source": [
    "### 2. Split data into train and test data"
   ]
  },
  {
   "cell_type": "markdown",
   "metadata": {},
   "source": [
    "I am using train_test_split from model_selection module to split our data. Thus, 70% of the data will be training data and 30% will be testing data."
   ]
  },
  {
   "cell_type": "code",
   "execution_count": 105,
   "metadata": {},
   "outputs": [],
   "source": [
    "from sklearn.model_selection import train_test_split\n",
    "X_train, X_test, y_train, y_test = train_test_split(police_final.drop('Gender',axis=1), \n",
    "                                                    police_final['Gender'], test_size=0.30,\n",
    "                                                    random_state=101)"
   ]
  },
  {
   "cell_type": "markdown",
   "metadata": {},
   "source": [
    "### 3. Using Logistic Regression to train the model"
   ]
  },
  {
   "cell_type": "code",
   "execution_count": 106,
   "metadata": {},
   "outputs": [],
   "source": [
    "from sklearn.linear_model import LogisticRegression\n",
    "logmodel = LogisticRegression()\n",
    "logmodel.fit(X_train,y_train)\n",
    "predictions = logmodel.predict(X_test)"
   ]
  },
  {
   "cell_type": "markdown",
   "metadata": {},
   "source": [
    "### 4. Check the accuracy of the model for predictions"
   ]
  },
  {
   "cell_type": "code",
   "execution_count": 107,
   "metadata": {},
   "outputs": [
    {
     "name": "stdout",
     "output_type": "stream",
     "text": [
      "              precision    recall  f1-score   support\n",
      "\n",
      "           0       0.81      0.22      0.35       957\n",
      "           1       0.69      0.97      0.81      1740\n",
      "\n",
      "    accuracy                           0.70      2697\n",
      "   macro avg       0.75      0.60      0.58      2697\n",
      "weighted avg       0.73      0.70      0.65      2697\n",
      "\n"
     ]
    }
   ],
   "source": [
    "from sklearn.metrics import classification_report\n",
    "print(classification_report(y_test,predictions))"
   ]
  },
  {
   "cell_type": "markdown",
   "metadata": {},
   "source": [
    "The weight avg is 73 percent accuracy, which looks pretty good."
   ]
  },
  {
   "cell_type": "code",
   "execution_count": 108,
   "metadata": {},
   "outputs": [
    {
     "name": "stdout",
     "output_type": "stream",
     "text": [
      "F1 Score: 0.8092956396741734\n"
     ]
    }
   ],
   "source": [
    "from sklearn.metrics import f1_score\n",
    "print(\"F1 Score: {}\".format(f1_score(y_test,predictions)))"
   ]
  },
  {
   "cell_type": "markdown",
   "metadata": {},
   "source": [
    "### 5. Check the confusion matrix <a class=\"anchor\" id=\"section_5_2_5\"></a>"
   ]
  },
  {
   "cell_type": "code",
   "execution_count": 109,
   "metadata": {},
   "outputs": [
    {
     "data": {
      "text/plain": [
       "array([[ 212,  745],\n",
       "       [  51, 1689]], dtype=int64)"
      ]
     },
     "execution_count": 109,
     "metadata": {},
     "output_type": "execute_result"
    }
   ],
   "source": [
    "from sklearn import metrics\n",
    "cnf_matrix = metrics.confusion_matrix(y_test, predictions)\n",
    "cnf_matrix"
   ]
  },
  {
   "cell_type": "markdown",
   "metadata": {},
   "source": [
    "* True positive: 312 (We predicted a positive result and it was positive)\n",
    "* True negative: 1639 (We predicted a negative result and it was negative)\n",
    "* False positive: 645 (We predicted a positive result and it was negative)\n",
    "* False negative: 101 (We predicted a negative result and it was positive)"
   ]
  },
  {
   "cell_type": "markdown",
   "metadata": {},
   "source": [
    "## Interpretation of Performance Measures <a class=\"anchor\" id=\"section_5_2_2\"></a>"
   ]
  },
  {
   "cell_type": "markdown",
   "metadata": {},
   "source": [
    "### Visaulizing the Confusion Matrix as a Heatmap"
   ]
  },
  {
   "cell_type": "code",
   "execution_count": 110,
   "metadata": {},
   "outputs": [
    {
     "data": {
      "text/plain": [
       "Text(0.5, 264.2, 'Predicted label')"
      ]
     },
     "execution_count": 110,
     "metadata": {},
     "output_type": "execute_result"
    },
    {
     "data": {
      "image/png": "[encoded data removed]",
      "text/plain": [
       "<Figure size 432x288 with 2 Axes>"
      ]
     },
     "metadata": {},
     "output_type": "display_data"
    }
   ],
   "source": [
    "class_names=[0,1] # name  of classes\n",
    "fig, ax = plt.subplots()\n",
    "tick_marks = np.arange(len(class_names))\n",
    "plt.xticks(tick_marks, class_names)\n",
    "plt.yticks(tick_marks, class_names)\n",
    "\n",
    "# creating the heatmap\n",
    "sns.heatmap(pd.DataFrame(cnf_matrix), annot=True, cmap=\"YlGnBu\" ,fmt='g')\n",
    "ax.xaxis.set_label_position(\"top\")\n",
    "plt.tight_layout()\n",
    "plt.title('Confusion matrix', y=1.1)\n",
    "plt.ylabel('Actual label')\n",
    "plt.xlabel('Predicted label')"
   ]
  },
  {
   "cell_type": "code",
   "execution_count": 111,
   "metadata": {},
   "outputs": [
    {
     "name": "stdout",
     "output_type": "stream",
     "text": [
      "Accuracy: 0.7048572487949574\n",
      "Precision: 0.6939194741166803\n",
      "Recall: 0.9706896551724138\n",
      "F1 Score: 0.8092956396741734\n"
     ]
    }
   ],
   "source": [
    "print(\"Accuracy:\",metrics.accuracy_score(y_test, predictions))\n",
    "print(\"Precision:\",metrics.precision_score(y_test, predictions))\n",
    "print(\"Recall:\",metrics.recall_score(y_test, predictions))\n",
    "print(\"F1 Score: {}\".format(f1_score(y_test,predictions)))"
   ]
  },
  {
   "cell_type": "markdown",
   "metadata": {},
   "source": [
    "### Interpreting the Heatmap Prediction Scores"
   ]
  },
  {
   "cell_type": "markdown",
   "metadata": {},
   "source": [
    "As explained by Rnuka Joshi in [this blog post](https://blog.exsilio.com/all/accuracy-precision-recall-f1-score-interpretation-of-performance-measures/):\n",
    "\n",
    "**Confusion matrix**: Provides an evalution of a classification model.\n",
    "* True Positives (TP) - if actual class value indicates the employee is male and predicted class tells you the employee is male.\n",
    "* True Negatives (TN) - if actual class value indicates the employee is not male and predicted class tells you the employee is not male.\n",
    "* False Positives (FP) – if actual class value indicates the employee is not male but predicted class tells you the employee is male.\n",
    "* False Negatives (FN) – if actual class value indicates the employee is male and predicted class tells you that employee is not male.\n",
    "\n",
    "**Accuracy:** Accuracy is the most intuitive performance measure and it is simply a ratio of correctly predicted observation to the total observations.\n",
    "* Accuracy = TP+TN/TP+FP+FN+TN\n",
    "\n",
    "**Precision:** Precision is the ratio of correctly predicted positive observations to the total predicted positive observations. The question that this metric answer is of all employees labeled as males, how many were actually male? High precision relates to the low false positive rate.\n",
    "* Precision = TP/TP+FP\n",
    "\n",
    "**Recall (Sensitivity):** Recall is the ratio of correctly predicted positive observations to the all observations in actual class - yes. The question recall answers is: Of all the employees that are male, how many did we label?\n",
    "* Recall = TP/TP+FN\n",
    "\n",
    "**F1 Score:** F1 Score is the weighted average of Precision and Recall. Therefore, this score takes both false positives and false negatives into account. Intuitively it is not as easy to understand as accuracy, but F1 is usually more useful than accuracy, especially if you have an uneven class distribution. Accuracy works best if false positives and false negatives have similar cost. If the cost of false positives and false negatives are very different, it’s better to look at both Precision and Recall.\n",
    "* F1 Score = 2*(Recall * Precision) / (Recall + Precision)"
   ]
  },
  {
   "cell_type": "markdown",
   "metadata": {},
   "source": [
    "**Conclusions:**\n",
    "* Accuracy was 72% which is relatively high.\n",
    "* Precision was 72%, which is relatively high and relates to the low false positive rate. It says that of all employees classified as male, 72% are actually male.\n",
    "* Recall indicates that if there are employees that are male in the test set, the Logistic Regression model can identify it 94% of the time, which is good for this model as it is above 50%.\n",
    "* F1 Score is 0.81 for female and 0.46 for male."
   ]
  },
  {
   "cell_type": "markdown",
   "metadata": {},
   "source": [
    "### Receiver Operating Characteristic (ROC) Curve"
   ]
  },
  {
   "cell_type": "markdown",
   "metadata": {},
   "source": [
    "This curve is a plot of the true positive rate against the false positive rate. It shows the tradeoff between sensitivity and specificity."
   ]
  },
  {
   "cell_type": "code",
   "execution_count": 112,
   "metadata": {},
   "outputs": [
    {
     "data": {
      "image/png": "[encoded data removed]",
      "text/plain": [
       "<Figure size 432x288 with 1 Axes>"
      ]
     },
     "metadata": {},
     "output_type": "display_data"
    }
   ],
   "source": [
    "y_pred_proba = logmodel.predict_proba(X_test)[::,1]\n",
    "fpr, tpr, _ = metrics.roc_curve(y_test,  predictions)\n",
    "auc = metrics.roc_auc_score(y_test, predictions)\n",
    "plt.plot(fpr,tpr,label=\"data 1, auc=\"+str(auc))\n",
    "plt.legend(loc=4)\n",
    "plt.show()"
   ]
  },
  {
   "cell_type": "markdown",
   "metadata": {},
   "source": [
    "AUC score for the case is 0.596. AUC score 1 represents perfect classifier, and 0.5 represents a worthless classifier. Thus, our model is not a very good classifier."
   ]
  },
  {
   "cell_type": "markdown",
   "metadata": {},
   "source": [
    "# Final Thoughts <a class=\"anchor\" id=\"chapter6\"></a>"
   ]
  },
  {
   "cell_type": "markdown",
   "metadata": {},
   "source": [
    "## Recommendations for further operationalization <a class=\"anchor\" id=\"section_6_1\"></a>"
   ]
  },
  {
   "cell_type": "markdown",
   "metadata": {},
   "source": [
    "<b>Montgomery County Salaries (2014-2018)</b>\n",
    "\n",
    "These datasets could be improved by adding more data such as education level, years worked in Montgomery County, and whether or not the person worked in a different position. I also think a dataset that includes data of only the Montgomery County employees that worked all 5, 10, or some other interval period could be useful for making more powerful visualizations of change over over time. It would be interesting to compare this information to salary information on individuals in the private sector in Montgomery county.\n",
    "\n",
    "<b>Crime</b>\n",
    "\n",
    "A very interesting practical application would be to present this data in a live dashboard, plotting incidents by their coordinates. This dataset is updated freqeuntly, and I think it would be interesting to be able to easily visually scrub through incidents over time in various locations.\n",
    "\n",
    "<b>MCPD Bias Incidents</b>\n",
    "\n",
    "A reccommendation for this dataset is for the actual age of suspects to be included in this dataset. It would also be helpful to already have a column with the \"bias type\" that is clean and easier to use. A column that has the district name would be more informative as well, though it is not necessary. This dataset could be used to in conjunction with other data about biased incidents in other counties, since there are not many incidents recorded in Montgomery County so far. I also think more documentation about how these incidents were coded would be useful."
   ]
  },
  {
   "cell_type": "markdown",
   "metadata": {},
   "source": [
    "## Acknowledgements <a class=\"anchor\" id=\"section_6_2\"></a>"
   ]
  },
  {
   "cell_type": "markdown",
   "metadata": {},
   "source": [
    "* Hamman, John F\n",
    "* Saidi, Rachel\n",
    "* Mohamed, Abdirisak"
   ]
  }
 ],
 "metadata": {
  "kernelspec": {
   "display_name": "Python 3",
   "language": "python",
   "name": "python3"
  },
  "language_info": {
   "codemirror_mode": {
    "name": "ipython",
    "version": 3
   },
   "file_extension": ".py",
   "mimetype": "text/x-python",
   "name": "python",
   "nbconvert_exporter": "python",
   "pygments_lexer": "ipython3",
   "version": "3.7.3"
  }
 },
 "nbformat": 4,
 "nbformat_minor": 2
}
